{
  "cells": [
    {
      "cell_type": "markdown",
      "metadata": {
        "id": "view-in-github",
        "colab_type": "text"
      },
      "source": [
        "<a href=\"https://colab.research.google.com/github/serhatataman/ProjectAmbitionColab/blob/main/Outsmart.ipynb\" target=\"_parent\"><img src=\"https://colab.research.google.com/assets/colab-badge.svg\" alt=\"Open In Colab\"/></a>"
      ]
    },
    {
      "cell_type": "markdown",
      "metadata": {
        "id": "Muy2Y5jKDipP"
      },
      "source": [
        "# Outsmart\n",
        "\n"
      ]
    },
    {
      "cell_type": "markdown",
      "metadata": {
        "id": "GJBs_flRovLc"
      },
      "source": [
        "## Setup"
      ]
    },
    {
      "cell_type": "markdown",
      "metadata": {
        "id": "EH7Cfdjb4f3b"
      },
      "source": [
        "### Enable GPU"
      ]
    },
    {
      "cell_type": "code",
      "execution_count": 2,
      "metadata": {
        "colab": {
          "base_uri": "https://localhost:8080/"
        },
        "id": "tGZ8hikAV80H",
        "outputId": "4f438994-25c3-480e-b1d1-8643d88c8737"
      },
      "outputs": [
        {
          "output_type": "stream",
          "name": "stdout",
          "text": [
            "Tue Apr 25 01:35:22 2023       \n",
            "+-----------------------------------------------------------------------------+\n",
            "| NVIDIA-SMI 525.85.12    Driver Version: 525.85.12    CUDA Version: 12.0     |\n",
            "|-------------------------------+----------------------+----------------------+\n",
            "| GPU  Name        Persistence-M| Bus-Id        Disp.A | Volatile Uncorr. ECC |\n",
            "| Fan  Temp  Perf  Pwr:Usage/Cap|         Memory-Usage | GPU-Util  Compute M. |\n",
            "|                               |                      |               MIG M. |\n",
            "|===============================+======================+======================|\n",
            "|   0  Tesla T4            Off  | 00000000:00:04.0 Off |                    0 |\n",
            "| N/A   40C    P8     9W /  70W |      0MiB / 15360MiB |      0%      Default |\n",
            "|                               |                      |                  N/A |\n",
            "+-------------------------------+----------------------+----------------------+\n",
            "                                                                               \n",
            "+-----------------------------------------------------------------------------+\n",
            "| Processes:                                                                  |\n",
            "|  GPU   GI   CI        PID   Type   Process name                  GPU Memory |\n",
            "|        ID   ID                                                   Usage      |\n",
            "|=============================================================================|\n",
            "|  No running processes found                                                 |\n",
            "+-----------------------------------------------------------------------------+\n"
          ]
        }
      ],
      "source": [
        "gpu_info = !nvidia-smi\n",
        "gpu_info = '\\n'.join(gpu_info)\n",
        "if gpu_info.find('failed') >= 0:\n",
        "  print('Not connected to a GPU')\n",
        "else:\n",
        "  print(gpu_info)"
      ]
    },
    {
      "cell_type": "markdown",
      "metadata": {
        "id": "dx8alQk_XBWE"
      },
      "source": [
        "### Mount to the Google Drive"
      ]
    },
    {
      "cell_type": "code",
      "execution_count": null,
      "metadata": {
        "colab": {
          "base_uri": "https://localhost:8080/"
        },
        "id": "CeMVNvOyXFQW",
        "outputId": "8ec51418-ca85-42fd-9ac0-d020c854c2ee"
      },
      "outputs": [
        {
          "output_type": "stream",
          "name": "stdout",
          "text": [
            "Mounted at /content/drive\n",
            "Using Google CoLab\n"
          ]
        }
      ],
      "source": [
        "try:\n",
        "    from google.colab import drive\n",
        "    drive.mount('/content/drive', force_remount=True)\n",
        "    COLAB = True\n",
        "    print(\"Using Google CoLab\")\n",
        "except:\n",
        "    print(\"Not using Google CoLab\")\n",
        "    COLAB = False"
      ]
    },
    {
      "cell_type": "markdown",
      "metadata": {
        "id": "sGKA5Q7uEbR2"
      },
      "source": [
        "\n",
        "### Import NVIDIA stylegan2 ada"
      ]
    },
    {
      "cell_type": "code",
      "execution_count": null,
      "metadata": {
        "id": "j9PA6qPNs4hj"
      },
      "outputs": [],
      "source": [
        "%cd \"/content/drive/MyDrive/Outsmart\"\n",
        "!git clone https://github.com/NVlabs/stylegan2-ada-pytorch.git"
      ]
    },
    {
      "cell_type": "code",
      "execution_count": null,
      "metadata": {
        "colab": {
          "base_uri": "https://localhost:8080/"
        },
        "id": "8HX77jscX2zV",
        "outputId": "6c9ab321-c939-40e2-bcc3-238cd9f31d14"
      },
      "outputs": [
        {
          "name": "stdout",
          "output_type": "stream",
          "text": [
            "/content/drive/MyDrive/Outsmart/stylegan2-ada-pytorch\n"
          ]
        }
      ],
      "source": [
        "%cd \"/content/drive/MyDrive/Outsmart/stylegan2-ada-pytorch\"\n",
        "!git config --global user.name \"serhatataman\"\n",
        "!git config --global user.email \"serhatataman13@hotmail.com\"\n",
        "!git fetch origin\n",
        "!git checkout origin/main -- train.py"
      ]
    },
    {
      "cell_type": "markdown",
      "metadata": {
        "id": "R0zxbFebhphg"
      },
      "source": [
        "### Download from webscrap of WikiArt"
      ]
    },
    {
      "cell_type": "code",
      "execution_count": null,
      "metadata": {
        "id": "9h9-uiDZxghm"
      },
      "outputs": [],
      "source": [
        "import urllib\n",
        "import re\n",
        "from bs4 import BeautifulSoup\n",
        "import time\n",
        "\n",
        "file_path = \"/content/drive/MyDrive/Outsmart/raw_data\"\n",
        "base_url = \"https://www.wikiart.org\"\n",
        "\n",
        "# iterate through all artists by last name alphabetically\n",
        "for c in range(ord('a'), ord('z') + 1):\n",
        "    char = chr(c)\n",
        "    artist_list_url = base_url + '/en/Alphabet/' + char + '/text-list'\n",
        "\n",
        "    genre_soup = BeautifulSoup(urllib.request.urlopen(artist_list_url), \"lxml\")\n",
        "    artist_list_main = genre_soup.find(\"main\")\n",
        "    lis = artist_list_main.find_all(\"li\")\n",
        "\n",
        "    # for each list element\n",
        "    for li in lis:\n",
        "\n",
        "        # get the date range\n",
        "        for line in li.text.splitlines():\n",
        "            # if line.startswith(\",\") and \"-\" in line:\n",
        "            #     parts = line.split('-')\n",
        "            #     if len(parts) == 2:\n",
        "            #         born = int(re.sub(\"[^0-9]\", \"\", parts[0]))\n",
        "            #         died = int(re.sub(\"[^0-9]\", \"\", parts[1]))\n",
        "\n",
        "            # look for artists who may have created work that could in public domain\n",
        "            # if born > 1850 and died > 0 and (born < 1900 or died < 1950):\n",
        "\n",
        "            link = li.find(\"a\")\n",
        "            if link is None:\n",
        "                continue\n",
        "\n",
        "            artist = link.attrs[\"href\"]\n",
        "\n",
        "            # get the artist's main page\n",
        "            artist_url = base_url + artist\n",
        "            artist_soup = BeautifulSoup(urllib.request.urlopen(artist_url), \"lxml\")\n",
        "\n",
        "            # only look for artists with the word abstract on their main page\n",
        "            if \"Abstract\" in artist_soup.text or \"abstract\" in artist_soup.text or \"Avant-garde\" \\\n",
        "                    in artist_soup.text or \"avant-garde\" in artist_soup.text:\n",
        "                print('Artist: ' + artist)\n",
        "\n",
        "                # get the artist's web page for the artwork\n",
        "                url = base_url + artist + '/all-works/text-list'\n",
        "\n",
        "                try:\n",
        "                    artist_work_soup = BeautifulSoup(urllib.request.urlopen(url), \"lxml\")\n",
        "                except:\n",
        "                    print(\"Error retrieving artist's work list. Url was: \" + url)\n",
        "                    continue\n",
        "\n",
        "                # get the main section\n",
        "                artist_main = artist_work_soup.find(\"main\")\n",
        "                image_count = 0\n",
        "                artist_name = artist.split(\"/\")[2]\n",
        "\n",
        "                # get the list of artwork\n",
        "                lis = artist_main.find_all(\"li\")\n",
        "\n",
        "                # for each list element\n",
        "                for li in lis:\n",
        "                    link = li.find(\"a\")\n",
        "\n",
        "                    if link != None:\n",
        "                        painting = link.attrs[\"href\"]\n",
        "\n",
        "                        # get the painting\n",
        "                        url = base_url + painting\n",
        "                        # print('Painting base url: ' + url)\n",
        "\n",
        "                        try:\n",
        "                            painting_soup = BeautifulSoup(urllib.request.urlopen(url), \"lxml\")\n",
        "\n",
        "                        except:\n",
        "                            print(\"error retrieving page\")\n",
        "                            continue\n",
        "\n",
        "                        # check the copyright\n",
        "                        if \"Public domain\" in painting_soup.text:\n",
        "\n",
        "                            # check the genre\n",
        "                            genre = painting_soup.find(\"span\", {\"itemprop\": \"genre\"})\n",
        "                            if genre != None and genre.text == \"abstract\":\n",
        "\n",
        "                                # get the url\n",
        "                                og_image = painting_soup.find(\"meta\", {\"property\": \"og:image\"})\n",
        "                                image_url = og_image[\"content\"].split(\"!\")[0]  # ignore the !Large.jpg at the end\n",
        "\n",
        "                                save_path = file_path + \"/\" + artist_name + \"_\" + str(image_count) + \".jpg\"\n",
        "\n",
        "                                # download the file\n",
        "                                try:\n",
        "                                    print(f\"Downloading {image_url} to {save_path}\")\n",
        "                                    time.sleep(0.2)  # try not to get a 403\n",
        "                                    urllib.request.urlretrieve(image_url, save_path)\n",
        "                                    image_count = image_count + 1\n",
        "                                except Exception as e:\n",
        "                                    print(\"Failed downloading \" + image_url, e)\n"
      ]
    },
    {
      "cell_type": "markdown",
      "metadata": {
        "id": "08p5Qj94vyad"
      },
      "source": [
        "### Download zip of art pieces"
      ]
    },
    {
      "cell_type": "code",
      "execution_count": null,
      "metadata": {
        "colab": {
          "base_uri": "https://localhost:8080/"
        },
        "id": "bM4CRE7Lhzc8",
        "outputId": "ff2c3d1d-a667-4f3b-ebdc-665bbfd65332"
      },
      "outputs": [
        {
          "name": "stdout",
          "output_type": "stream",
          "text": [
            "Download completed...\n"
          ]
        }
      ],
      "source": [
        "import requests\n",
        "\n",
        "zip_file_url = 'http://web.fsktm.um.edu.my/~cschan/source/ICIP2017/wikiart.zip'\n",
        "\n",
        "# NOTE the stream=True parameter below\n",
        "with requests.get(zip_file_url, stream=True) as response:\n",
        "  response.raise_for_status()\n",
        "  handle = open('/content/drive/MyDrive/ProjectAmbition/downloads/data.zip', \"wb\")\n",
        "  for chunk in response.iter_content(chunk_size=8192): \n",
        "      # If you have chunk encoded response uncomment if\n",
        "      # and set chunk_size parameter to None.\n",
        "      #if chunk: \n",
        "      handle.write(chunk)\n",
        "\n",
        "  handle.close()\n",
        "\n",
        "# Note that the number of bytes returned using iter_content is not exactly the chunk_size;\n",
        "# it's expected to be a random number that is often far bigger, and is expected to be different in every iteration.\n",
        "# See body-content-workflow and Response.iter_content for further reference.\n",
        "\n",
        "print('Download completed...')"
      ]
    },
    {
      "cell_type": "markdown",
      "metadata": {
        "id": "LSrDe3eOyIuV"
      },
      "source": [
        "Unzip downloaded files"
      ]
    },
    {
      "cell_type": "code",
      "execution_count": null,
      "metadata": {
        "colab": {
          "base_uri": "https://localhost:8080/"
        },
        "id": "K9MLyL8byHmE",
        "outputId": "7b250911-4402-4e4c-fbb2-ed9d161f7784"
      },
      "outputs": [
        {
          "name": "stdout",
          "output_type": "stream",
          "text": [
            "A file is corrupted. Filename: wikiart/Baroque/rembrandt_woman-standing-with-raised-hands.jpg\n",
            "Bad CRC-32 for file 'wikiart/Baroque/rembrandt_woman-standing-with-raised-hands.jpg'\n",
            "A file is corrupted. Filename: wikiart/Post_Impressionism/vincent-van-gogh_l-arlesienne-portrait-of-madame-ginoux-1890.jpg\n",
            "Error -3 while decompressing data: invalid block type\n",
            "Unzip successful...\n"
          ]
        }
      ],
      "source": [
        "import zipfile\n",
        "\n",
        "zip_filename = \"/content/drive/MyDrive/ProjectAmbition/downloads/data.zip\"\n",
        "directory_to_extract_to = \"/content/drive/MyDrive/ProjectAmbition/downloads/\"\n",
        "\n",
        "with zipfile.ZipFile(zip_filename, \"r\") as zip_ref:\n",
        "    for name in zip_ref.namelist():\n",
        "        try:\n",
        "            zip_ref.extract(name, directory_to_extract_to)\n",
        "        except (Exception, zipfile.BadZipFile) as e:\n",
        "            print(\"A file is corrupted. Filename: \" + str(name))\n",
        "            print(e)\n",
        "\n",
        "print(\"Unzip successful...\")"
      ]
    },
    {
      "cell_type": "markdown",
      "metadata": {
        "id": "xK9pkfdE25FQ"
      },
      "source": [
        "## Move Images\n",
        "\n",
        "Move images from different sources to a single file"
      ]
    },
    {
      "cell_type": "code",
      "execution_count": null,
      "metadata": {
        "id": "yxqBBFKn24YO"
      },
      "outputs": [],
      "source": [
        "import shutil\n",
        "import os\n",
        "\n",
        "\n",
        "target_dir = '/content/drive/MyDrive/ProjectAmbition/raw_data/'\n",
        "\n",
        "modern = '/content/drive/MyDrive/ProjectAmbition/downloads/wikiart/Art_Nouveau_Modern/'\n",
        "abstract = '/content/drive/MyDrive/ProjectAmbition/downloads/wikiart/Abstract_Expressionism/'\n",
        "fauvism = '/content/drive/MyDrive/ProjectAmbition/downloads/wikiart/Fauvism/'\n",
        "impressionism = '/content/drive/MyDrive/ProjectAmbition/downloads/wikiart/Impressionism/'\n",
        "\n",
        "print('Art Nouveau has: ' + str(len(os.listdir(modern))))\n",
        "print('Abstract has: ' + str(len(os.listdir(abstract))))\n",
        "print('Fauvism has: ' + str(len(os.listdir(fauvism))))\n",
        "print('Impressionism has: ' + str(len(os.listdir(impressionism))))\n",
        "\n",
        "# Exception is handled in case there are duplicated images\n",
        "\n",
        "print(\"Moving Art Nouveau files...\")    \n",
        "file_names = os.listdir(modern)\n",
        "for file_name in file_names:\n",
        "  try:\n",
        "    shutil.move(os.path.join(modern, file_name), target_dir)\n",
        "  except Exception as e: \n",
        "    print(e)\n",
        "    continue\n",
        "\n",
        "print(\"Moving Abstract files...\")    \n",
        "file_names = os.listdir(abstract)\n",
        "for file_name in file_names:\n",
        "  try:\n",
        "    shutil.move(os.path.join(abstract, file_name), target_dir)\n",
        "  except Exception as e: \n",
        "    print(e)\n",
        "    continue\n",
        "\n",
        "print(\"Moving Fauvism files...\")    \n",
        "file_names = os.listdir(fauvism)\n",
        "for file_name in file_names:\n",
        "  try:\n",
        "    shutil.move(os.path.join(fauvism, file_name), target_dir)\n",
        "  except Exception as e: \n",
        "    print(e)\n",
        "    continue\n",
        "\n",
        "print(\"Moving Impressionism files...\")    \n",
        "file_names = os.listdir(impressionism)\n",
        "for file_name in file_names:\n",
        "  try:\n",
        "    shutil.move(os.path.join(impressionism, file_name), target_dir)\n",
        "  except Exception as e: \n",
        "    print(e)\n",
        "    continue\n",
        "\n",
        "print(\"Moving files is successful!\")\n"
      ]
    },
    {
      "cell_type": "code",
      "execution_count": null,
      "metadata": {
        "colab": {
          "base_uri": "https://localhost:8080/"
        },
        "id": "C15JNv5mVmW-",
        "outputId": "44499f95-1556-4e59-964c-36f106a7b4ba"
      },
      "outputs": [
        {
          "name": "stdout",
          "output_type": "stream",
          "text": [
            "Target direcotry has: 20903\n"
          ]
        }
      ],
      "source": [
        "target_dir = '/content/drive/MyDrive/ProjectAmbition/raw_data/'\n",
        "\n",
        "print('Target direcotry has: ' + str(len(os.listdir(target_dir))))"
      ]
    },
    {
      "cell_type": "markdown",
      "metadata": {
        "id": "GOqy7Uvel427"
      },
      "source": [
        "## Cleanup images"
      ]
    },
    {
      "cell_type": "markdown",
      "metadata": {
        "id": "KsBQgoD3LX-Z"
      },
      "source": [
        "See what dataset_tool.py can do"
      ]
    },
    {
      "cell_type": "code",
      "execution_count": null,
      "metadata": {
        "id": "gXIAsscwLa5k"
      },
      "outputs": [],
      "source": [
        "cmd = f\"/usr/bin/python3 /content/drive/MyDrive/ProjectAmbition/stylegan3/dataset_tool.py --help\"\n",
        "!{cmd}"
      ]
    },
    {
      "cell_type": "markdown",
      "metadata": {
        "id": "FPXQ-z-SmXdE"
      },
      "source": [
        "### Remove frames\n",
        "\n",
        "Remove frames if there are any. This process overrides the picture with frames removed."
      ]
    },
    {
      "cell_type": "code",
      "execution_count": null,
      "metadata": {
        "id": "SD-E7AK-mbW2"
      },
      "outputs": [],
      "source": [
        "import os\n",
        "import numpy as np\n",
        "from PIL import Image\n",
        "from scipy.spatial import distance\n",
        "\n",
        "# This python script removes pictures' frames if there are any\n",
        "\n",
        "from_path = '/content/drive/MyDrive/ProjectAmbition/raw_data/'\n",
        "to_path = '/content/drive/MyDrive/ProjectAmbition/raw_data/'\n",
        "\n",
        "\n",
        "def find_left():\n",
        "    left = 0\n",
        "    for i in range(0, w_pad):\n",
        "        r_stdev = np.std(np_img[h_pad:-h_pad, i:i + 1, 0:1])\n",
        "        g_stdev = np.std(np_img[h_pad:-h_pad, i:i + 1, 1:2])\n",
        "        b_stdev = np.std(np_img[h_pad:-h_pad, i:i + 1, 2:3])\n",
        "        if r_stdev * r_stdev + g_stdev * g_stdev + b_stdev * b_stdev > thresh1:\n",
        "            break\n",
        "\n",
        "        r_med = np.median(np_img[h_pad:-h_pad, i:i + 1, 0:1])\n",
        "        g_med = np.median(np_img[h_pad:-h_pad, i:i + 1, 1:2])\n",
        "        b_med = np.median(np_img[h_pad:-h_pad, i:i + 1, 2:3])\n",
        "        dst = distance.euclidean((r_med, g_med, b_med), (r_global_med, g_global_med, b_global_med))\n",
        "        if dst < thresh2:\n",
        "            break\n",
        "\n",
        "        left = left + 1\n",
        "    return left\n",
        "\n",
        "\n",
        "def find_top():\n",
        "    top = 0\n",
        "    for i in range(0, h_pad):\n",
        "        r_stdev = np.std(np_img[i:i + 1, w_pad:-w_pad, 0:1])\n",
        "        g_stdev = np.std(np_img[i:i + 1, w_pad:-w_pad, 1:2])\n",
        "        b_stdev = np.std(np_img[i:i + 1, w_pad:-w_pad, 2:3])\n",
        "        if r_stdev * r_stdev + g_stdev * g_stdev + b_stdev * b_stdev > thresh1:\n",
        "            break\n",
        "\n",
        "        r_med = np.median(np_img[i:i + 1, w_pad:-w_pad, 0:1])\n",
        "        g_med = np.median(np_img[i:i + 1, w_pad:-w_pad, 1:2])\n",
        "        b_med = np.median(np_img[i:i + 1, w_pad:-w_pad, 2:3])\n",
        "        dst = distance.euclidean((r_med, g_med, b_med), (r_global_med, g_global_med, b_global_med))\n",
        "        if dst < thresh2:\n",
        "            break\n",
        "\n",
        "        top = top + 1\n",
        "    return top\n",
        "\n",
        "\n",
        "def find_right(right):\n",
        "    right = w\n",
        "    for i in range(0, w_pad):\n",
        "        r_stdev = np.std(np_img[h_pad:-h_pad, w - i - 1:w - i, 0:1])\n",
        "        g_stdev = np.std(np_img[h_pad:-h_pad, w - i - 1:w - i, 1:2])\n",
        "        b_stdev = np.std(np_img[h_pad:-h_pad, w - i - 1:w - i, 2:3])\n",
        "        if r_stdev * r_stdev + g_stdev * g_stdev + b_stdev * b_stdev > thresh1:\n",
        "            break\n",
        "\n",
        "        r_med = np.median(np_img[h_pad:-h_pad, w - i - 1:w - i, 0:1])\n",
        "        g_med = np.median(np_img[h_pad:-h_pad, w - i - 1:w - i, 1:2])\n",
        "        b_med = np.median(np_img[h_pad:-h_pad, w - i - 1:w - i, 2:3])\n",
        "        dst = distance.euclidean((r_med, g_med, b_med), (r_global_med, g_global_med, b_global_med))\n",
        "        if dst < thresh2:\n",
        "            break\n",
        "\n",
        "        right = right - 1\n",
        "    return right\n",
        "\n",
        "\n",
        "def find_bottom(bottom):\n",
        "    for i in range(0, h_pad):\n",
        "        r_stdev = np.std(np_img[h - i - 1:h - i, w_pad:-w_pad, 0:1])\n",
        "        g_stdev = np.std(np_img[h - i - 1:h - i, w_pad:-w_pad, 1:2])\n",
        "        b_stdev = np.std(np_img[h - i - 1:h - i, w_pad:-w_pad, 2:3])\n",
        "        if r_stdev * r_stdev + g_stdev * g_stdev + b_stdev * b_stdev > thresh1:\n",
        "            break\n",
        "\n",
        "        r_med = np.median(np_img[h - i - 1:h - i, w_pad:-w_pad, 0:1])\n",
        "        g_med = np.median(np_img[h - i - 1:h - i, w_pad:-w_pad, 1:2])\n",
        "        b_med = np.median(np_img[h - i - 1:h - i, w_pad:-w_pad, 2:3])\n",
        "        dst = distance.euclidean((r_med, g_med, b_med), (r_global_med, g_global_med, b_global_med))\n",
        "        if dst < thresh2:\n",
        "            break\n",
        "\n",
        "        bottom = bottom - 1\n",
        "    return bottom\n",
        "\n",
        "\n",
        "for file in os.listdir(from_path):\n",
        "    path = os.path.join(from_path, file)\n",
        "    img = Image.open(path)\n",
        "    file_name, file_extension = os.path.splitext(path)\n",
        "    print('Removing frames for image:', file_name + file_extension)\n",
        "\n",
        "    np_img = np.asarray(img)\n",
        "    # print(\"shape = \" + str(np_img.shape))\n",
        "\n",
        "    thresh1 = 15000\n",
        "    thresh2 = 30\n",
        "    w = img.width\n",
        "    h = img.height\n",
        "    pad = 30\n",
        "    w_pad = w // pad\n",
        "    h_pad = h // pad\n",
        "\n",
        "    r_global_med = np.median(np_img[h_pad:-h_pad, w_pad:-w_pad, 0:1])\n",
        "    g_global_med = np.median(np_img[h_pad:-h_pad, w_pad:-w_pad, 1:2])\n",
        "    b_global_med = np.median(np_img[h_pad:-h_pad, w_pad:-w_pad, 2:3])\n",
        "\n",
        "    left = find_left()\n",
        "    top = find_top()\n",
        "    right = find_right(w)\n",
        "    bottom = find_bottom(h)\n",
        "\n",
        "    # print(\"left = \" + str(left) + \", top = \" + str(top) +\n",
        "      #    \", right = \" + str(right) + \", bottom = \" + str(bottom) + \"\\n\")\n",
        "\n",
        "    # img.save(to_path + file)  # save the original\n",
        "    cropped_img = img.crop((left, top, right, bottom))\n",
        "    cropped_img.save(file_name + file_extension)  # and the cropped version\n",
        "\n",
        "\n",
        "print(\"All images have been cleaned from frames!\")\n"
      ]
    },
    {
      "cell_type": "markdown",
      "metadata": {
        "id": "CW68PWCUqezM"
      },
      "source": [
        "### Resize images\n",
        "\n",
        "Resize images to 1024x1024 and override them."
      ]
    },
    {
      "cell_type": "code",
      "execution_count": null,
      "metadata": {
        "id": "fEiSVY8mqlci"
      },
      "outputs": [],
      "source": [
        "import os\n",
        "from PIL import Image\n",
        "\n",
        "image_source_path = '/content/drive/MyDrive/ProjectAmbition/raw_data/'\n",
        "image_target_path = '/content/drive/MyDrive/ProjectAmbition/raw_data/'\n",
        "\n",
        "# We are using Pillow to resize all images to our desired size\n",
        "\n",
        "for filename in os.listdir(image_source_path):\n",
        "    path = os.path.join(image_source_path, filename)\n",
        "    image = Image.open(path).resize((1024, 1024), Image.ANTIALIAS)\n",
        "\n",
        "    resized_image = image.save(image_target_path + filename)\n",
        "    print(f\"{filename} image is resized...\")\n",
        "\n",
        "print(\"Resizing of images is successful!\")"
      ]
    },
    {
      "cell_type": "markdown",
      "metadata": {
        "id": "mSZS_v2F07l7"
      },
      "source": [
        "## Convert images\n",
        "\n",
        "Convert raw data images to dataset by using StyleGAN3's built-in dataset_tool.py"
      ]
    },
    {
      "cell_type": "code",
      "execution_count": null,
      "metadata": {
        "colab": {
          "base_uri": "https://localhost:8080/"
        },
        "id": "CD5Awx4Ty4Iq",
        "outputId": "4c615b51-19da-4dab-e24b-76ed175bd885"
      },
      "outputs": [
        {
          "name": "stdout",
          "output_type": "stream",
          "text": [
            "1\n",
            "2\n",
            "3\n",
            "4\n",
            "5\n",
            "6\n",
            "7\n",
            "8\n",
            "9\n"
          ]
        }
      ],
      "source": [
        "\n",
        "for i in range(1, 10):\n",
        "    print(i)"
      ]
    },
    {
      "cell_type": "code",
      "execution_count": null,
      "metadata": {
        "id": "SzRcHVFLvJO6"
      },
      "outputs": [],
      "source": [
        "from distutils.dir_util import copy_tree\n",
        "\n",
        "for i in range(18, 21):\n",
        "  dest = 'dataset/000' + str(i)\n",
        "  copy_tree('/content/drive/MyDrive/ProjectAmbition/' + str(dest), '/content/drive/MyDrive/Outsmart/' + str(dest))"
      ]
    },
    {
      "cell_type": "code",
      "execution_count": null,
      "metadata": {
        "id": "nYWi_5DSfKoE"
      },
      "outputs": [],
      "source": [
        "!python /content/drive/MyDrive/Outsmart/stylegan2-ada-pytorch/dataset_tool.py --source /content/drive/MyDrive/Outsmart/raw_data/ --dest /content/drive/MyDrive/Outsmart/dataset/ --width=1024 --height=1024"
      ]
    },
    {
      "cell_type": "markdown",
      "metadata": {
        "id": "JfUa1rMSlvTT"
      },
      "source": [
        "The following command can be used to clear out the newly created dataset. If something goes wrong and you need to clean up your images and rerun the above command, you should delete your partially created dataset directory."
      ]
    },
    {
      "cell_type": "code",
      "execution_count": null,
      "metadata": {
        "id": "pS0JPUa0lzoJ"
      },
      "outputs": [],
      "source": [
        "# !rm -R /content/drive/MyDrive/ProjectAmbition/dataset/*"
      ]
    },
    {
      "cell_type": "markdown",
      "metadata": {
        "id": "VIF5keq1x9MA"
      },
      "source": [
        "## Training"
      ]
    },
    {
      "cell_type": "markdown",
      "metadata": {
        "id": "Ct68q26xyA2F"
      },
      "source": [
        "### Initial training"
      ]
    },
    {
      "cell_type": "code",
      "execution_count": null,
      "metadata": {
        "id": "txTGnCbG5V0C"
      },
      "outputs": [],
      "source": [
        "cmd = f\"/usr/bin/python3 /content/drive/MyDrive/ProjectAmbition/stylegan3/train.py --help\"\n",
        "!{cmd}"
      ]
    },
    {
      "cell_type": "markdown",
      "metadata": {
        "id": "Bmjw3QwfWyWS"
      },
      "source": [
        "Install required libraries. Must be installed"
      ]
    },
    {
      "cell_type": "code",
      "execution_count": null,
      "metadata": {
        "colab": {
          "base_uri": "https://localhost:8080/"
        },
        "id": "2SCfdoIkYfbV",
        "outputId": "5d5ecbc4-f301-4cd1-8df9-781f852c3eef"
      },
      "outputs": [
        {
          "name": "stdout",
          "output_type": "stream",
          "text": [
            "Requirement already satisfied: ninja in /usr/local/lib/python3.7/dist-packages (1.10.2.3)\n",
            "Requirement already satisfied: torch==1.8.1 in /usr/local/lib/python3.7/dist-packages (1.8.1)\n",
            "Requirement already satisfied: torchvision==0.9.1 in /usr/local/lib/python3.7/dist-packages (0.9.1)\n",
            "Collecting torchaudio==0.8.1\n",
            "  Downloading torchaudio-0.8.1-cp37-cp37m-manylinux1_x86_64.whl (1.9 MB)\n",
            "\u001b[K     |████████████████████████████████| 1.9 MB 16.2 MB/s \n",
            "\u001b[?25hRequirement already satisfied: numpy in /usr/local/lib/python3.7/dist-packages (from torch==1.8.1) (1.21.6)\n",
            "Requirement already satisfied: typing-extensions in /usr/local/lib/python3.7/dist-packages (from torch==1.8.1) (4.2.0)\n",
            "Requirement already satisfied: pillow>=4.1.1 in /usr/local/lib/python3.7/dist-packages (from torchvision==0.9.1) (7.1.2)\n",
            "Installing collected packages: torchaudio\n",
            "  Attempting uninstall: torchaudio\n",
            "    Found existing installation: torchaudio 0.11.0+cu113\n",
            "    Uninstalling torchaudio-0.11.0+cu113:\n",
            "      Successfully uninstalled torchaudio-0.11.0+cu113\n",
            "Successfully installed torchaudio-0.8.1\n"
          ]
        }
      ],
      "source": [
        "%tensorflow_version 1.x\n",
        "!pip install ninja\n",
        "#!pip install click requests tqdm pyspng ninja imageio-ffmpeg==0.4.3\n",
        "!pip install torch==1.8.1 torchvision==0.9.1 torchaudio==0.8.1\n",
        "#!pip install transformers==4.8.0"
      ]
    },
    {
      "cell_type": "code",
      "execution_count": null,
      "metadata": {
        "colab": {
          "base_uri": "https://localhost:8080/"
        },
        "id": "Puuif5Y7yBXm",
        "outputId": "f5299a7c-b0ae-4d7f-8742-cf531da959f2"
      },
      "outputs": [
        {
          "name": "stdout",
          "output_type": "stream",
          "text": [
            "\n",
            "Training options:\n",
            "{\n",
            "  \"num_gpus\": 1,\n",
            "  \"image_snapshot_ticks\": 5,\n",
            "  \"network_snapshot_ticks\": 5,\n",
            "  \"metrics\": [\n",
            "    \"fid50k_full\"\n",
            "  ],\n",
            "  \"random_seed\": 0,\n",
            "  \"training_set_kwargs\": {\n",
            "    \"class_name\": \"training.dataset.ImageFolderDataset\",\n",
            "    \"path\": \"/content/drive/MyDrive/Outsmart/dataset\",\n",
            "    \"use_labels\": false,\n",
            "    \"max_size\": 20903,\n",
            "    \"xflip\": true,\n",
            "    \"resolution\": 1024\n",
            "  },\n",
            "  \"data_loader_kwargs\": {\n",
            "    \"pin_memory\": true,\n",
            "    \"num_workers\": 3,\n",
            "    \"prefetch_factor\": 2\n",
            "  },\n",
            "  \"G_kwargs\": {\n",
            "    \"class_name\": \"training.networks.Generator\",\n",
            "    \"z_dim\": 512,\n",
            "    \"w_dim\": 512,\n",
            "    \"mapping_kwargs\": {\n",
            "      \"num_layers\": 8\n",
            "    },\n",
            "    \"synthesis_kwargs\": {\n",
            "      \"channel_base\": 32768,\n",
            "      \"channel_max\": 512,\n",
            "      \"num_fp16_res\": 4,\n",
            "      \"conv_clamp\": 256\n",
            "    }\n",
            "  },\n",
            "  \"D_kwargs\": {\n",
            "    \"class_name\": \"training.networks.Discriminator\",\n",
            "    \"block_kwargs\": {},\n",
            "    \"mapping_kwargs\": {},\n",
            "    \"epilogue_kwargs\": {\n",
            "      \"mbstd_group_size\": 4\n",
            "    },\n",
            "    \"channel_base\": 32768,\n",
            "    \"channel_max\": 512,\n",
            "    \"num_fp16_res\": 4,\n",
            "    \"conv_clamp\": 256\n",
            "  },\n",
            "  \"G_opt_kwargs\": {\n",
            "    \"class_name\": \"torch.optim.Adam\",\n",
            "    \"lr\": 0.002,\n",
            "    \"betas\": [\n",
            "      0,\n",
            "      0.99\n",
            "    ],\n",
            "    \"eps\": 1e-08\n",
            "  },\n",
            "  \"D_opt_kwargs\": {\n",
            "    \"class_name\": \"torch.optim.Adam\",\n",
            "    \"lr\": 0.002,\n",
            "    \"betas\": [\n",
            "      0,\n",
            "      0.99\n",
            "    ],\n",
            "    \"eps\": 1e-08\n",
            "  },\n",
            "  \"loss_kwargs\": {\n",
            "    \"class_name\": \"training.loss.StyleGAN2Loss\",\n",
            "    \"r1_gamma\": 8.0\n",
            "  },\n",
            "  \"total_kimg\": 25000,\n",
            "  \"batch_size\": 32,\n",
            "  \"batch_gpu\": 4,\n",
            "  \"ema_kimg\": 10,\n",
            "  \"ema_rampup\": null,\n",
            "  \"ada_target\": 0.6,\n",
            "  \"augment_kwargs\": {\n",
            "    \"class_name\": \"training.augment.AugmentPipe\",\n",
            "    \"xflip\": 1,\n",
            "    \"rotate90\": 1,\n",
            "    \"xint\": 1,\n",
            "    \"scale\": 1,\n",
            "    \"rotate\": 1,\n",
            "    \"aniso\": 1,\n",
            "    \"xfrac\": 1,\n",
            "    \"brightness\": 1,\n",
            "    \"contrast\": 1,\n",
            "    \"lumaflip\": 1,\n",
            "    \"hue\": 1,\n",
            "    \"saturation\": 1\n",
            "  },\n",
            "  \"run_dir\": \"/content/drive/MyDrive/Outsmart/output/00000-dataset-mirror-stylegan2-gamma8-ada\"\n",
            "}\n",
            "\n",
            "Output directory:   /content/drive/MyDrive/Outsmart/output/00000-dataset-mirror-stylegan2-gamma8-ada\n",
            "Training data:      /content/drive/MyDrive/Outsmart/dataset\n",
            "Training duration:  25000 kimg\n",
            "Number of GPUs:     1\n",
            "Number of images:   20903\n",
            "Image resolution:   1024\n",
            "Conditional model:  False\n",
            "Dataset x-flips:    True\n",
            "\n",
            "Creating output directory...\n",
            "Launching processes...\n",
            "Loading training set...\n",
            "\n",
            "Num images:  41806\n",
            "Image shape: [3, 1024, 1024]\n",
            "Label shape: [0]\n",
            "\n",
            "Constructing networks...\n",
            "Setting up PyTorch plugin \"bias_act_plugin\"... Done.\n",
            "Setting up PyTorch plugin \"upfirdn2d_plugin\"... Done.\n",
            "\n",
            "Generator              Parameters  Buffers  Output shape         Datatype\n",
            "---                    ---         ---      ---                  ---     \n",
            "mapping.fc0            262656      -        [4, 512]             float32 \n",
            "mapping.fc1            262656      -        [4, 512]             float32 \n",
            "mapping.fc2            262656      -        [4, 512]             float32 \n",
            "mapping.fc3            262656      -        [4, 512]             float32 \n",
            "mapping.fc4            262656      -        [4, 512]             float32 \n",
            "mapping.fc5            262656      -        [4, 512]             float32 \n",
            "mapping.fc6            262656      -        [4, 512]             float32 \n",
            "mapping.fc7            262656      -        [4, 512]             float32 \n",
            "mapping                -           512      [4, 18, 512]         float32 \n",
            "synthesis.b4.conv1     2622465     32       [4, 512, 4, 4]       float32 \n",
            "synthesis.b4.torgb     264195      -        [4, 3, 4, 4]         float32 \n",
            "synthesis.b4:0         8192        16       [4, 512, 4, 4]       float32 \n",
            "synthesis.b4:1         -           -        [4, 512, 4, 4]       float32 \n",
            "synthesis.b8.conv0     2622465     80       [4, 512, 8, 8]       float32 \n",
            "synthesis.b8.conv1     2622465     80       [4, 512, 8, 8]       float32 \n",
            "synthesis.b8.torgb     264195      -        [4, 3, 8, 8]         float32 \n",
            "synthesis.b8:0         -           16       [4, 512, 8, 8]       float32 \n",
            "synthesis.b8:1         -           -        [4, 512, 8, 8]       float32 \n",
            "synthesis.b16.conv0    2622465     272      [4, 512, 16, 16]     float32 \n",
            "synthesis.b16.conv1    2622465     272      [4, 512, 16, 16]     float32 \n",
            "synthesis.b16.torgb    264195      -        [4, 3, 16, 16]       float32 \n",
            "synthesis.b16:0        -           16       [4, 512, 16, 16]     float32 \n",
            "synthesis.b16:1        -           -        [4, 512, 16, 16]     float32 \n",
            "synthesis.b32.conv0    2622465     1040     [4, 512, 32, 32]     float32 \n",
            "synthesis.b32.conv1    2622465     1040     [4, 512, 32, 32]     float32 \n",
            "synthesis.b32.torgb    264195      -        [4, 3, 32, 32]       float32 \n",
            "synthesis.b32:0        -           16       [4, 512, 32, 32]     float32 \n",
            "synthesis.b32:1        -           -        [4, 512, 32, 32]     float32 \n",
            "synthesis.b64.conv0    2622465     4112     [4, 512, 64, 64]     float32 \n",
            "synthesis.b64.conv1    2622465     4112     [4, 512, 64, 64]     float32 \n",
            "synthesis.b64.torgb    264195      -        [4, 3, 64, 64]       float32 \n",
            "synthesis.b64:0        -           16       [4, 512, 64, 64]     float32 \n",
            "synthesis.b64:1        -           -        [4, 512, 64, 64]     float32 \n",
            "synthesis.b128.conv0   1442561     16400    [4, 256, 128, 128]   float16 \n",
            "synthesis.b128.conv1   721409      16400    [4, 256, 128, 128]   float16 \n",
            "synthesis.b128.torgb   132099      -        [4, 3, 128, 128]     float16 \n",
            "synthesis.b128:0       -           16       [4, 256, 128, 128]   float16 \n",
            "synthesis.b128:1       -           -        [4, 256, 128, 128]   float32 \n",
            "synthesis.b256.conv0   426369      65552    [4, 128, 256, 256]   float16 \n",
            "synthesis.b256.conv1   213249      65552    [4, 128, 256, 256]   float16 \n",
            "synthesis.b256.torgb   66051       -        [4, 3, 256, 256]     float16 \n",
            "synthesis.b256:0       -           16       [4, 128, 256, 256]   float16 \n",
            "synthesis.b256:1       -           -        [4, 128, 256, 256]   float32 \n",
            "synthesis.b512.conv0   139457      262160   [4, 64, 512, 512]    float16 \n",
            "synthesis.b512.conv1   69761       262160   [4, 64, 512, 512]    float16 \n",
            "synthesis.b512.torgb   33027       -        [4, 3, 512, 512]     float16 \n",
            "synthesis.b512:0       -           16       [4, 64, 512, 512]    float16 \n",
            "synthesis.b512:1       -           -        [4, 64, 512, 512]    float32 \n",
            "synthesis.b1024.conv0  51297       1048592  [4, 32, 1024, 1024]  float16 \n",
            "synthesis.b1024.conv1  25665       1048592  [4, 32, 1024, 1024]  float16 \n",
            "synthesis.b1024.torgb  16515       -        [4, 3, 1024, 1024]   float16 \n",
            "synthesis.b1024:0      -           16       [4, 32, 1024, 1024]  float16 \n",
            "synthesis.b1024:1      -           -        [4, 32, 1024, 1024]  float32 \n",
            "---                    ---         ---      ---                  ---     \n",
            "Total                  30370060    2797104  -                    -       \n",
            "\n",
            "\n",
            "Discriminator  Parameters  Buffers  Output shape         Datatype\n",
            "---            ---         ---      ---                  ---     \n",
            "b1024.fromrgb  128         16       [4, 32, 1024, 1024]  float16 \n",
            "b1024.skip     2048        16       [4, 64, 512, 512]    float16 \n",
            "b1024.conv0    9248        16       [4, 32, 1024, 1024]  float16 \n",
            "b1024.conv1    18496       16       [4, 64, 512, 512]    float16 \n",
            "b1024          -           16       [4, 64, 512, 512]    float16 \n",
            "b512.skip      8192        16       [4, 128, 256, 256]   float16 \n",
            "b512.conv0     36928       16       [4, 64, 512, 512]    float16 \n",
            "b512.conv1     73856       16       [4, 128, 256, 256]   float16 \n",
            "b512           -           16       [4, 128, 256, 256]   float16 \n",
            "b256.skip      32768       16       [4, 256, 128, 128]   float16 \n",
            "b256.conv0     147584      16       [4, 128, 256, 256]   float16 \n",
            "b256.conv1     295168      16       [4, 256, 128, 128]   float16 \n",
            "b256           -           16       [4, 256, 128, 128]   float16 \n",
            "b128.skip      131072      16       [4, 512, 64, 64]     float16 \n",
            "b128.conv0     590080      16       [4, 256, 128, 128]   float16 \n",
            "b128.conv1     1180160     16       [4, 512, 64, 64]     float16 \n",
            "b128           -           16       [4, 512, 64, 64]     float16 \n",
            "b64.skip       262144      16       [4, 512, 32, 32]     float32 \n",
            "b64.conv0      2359808     16       [4, 512, 64, 64]     float32 \n",
            "b64.conv1      2359808     16       [4, 512, 32, 32]     float32 \n",
            "b64            -           16       [4, 512, 32, 32]     float32 \n",
            "b32.skip       262144      16       [4, 512, 16, 16]     float32 \n",
            "b32.conv0      2359808     16       [4, 512, 32, 32]     float32 \n",
            "b32.conv1      2359808     16       [4, 512, 16, 16]     float32 \n",
            "b32            -           16       [4, 512, 16, 16]     float32 \n",
            "b16.skip       262144      16       [4, 512, 8, 8]       float32 \n",
            "b16.conv0      2359808     16       [4, 512, 16, 16]     float32 \n",
            "b16.conv1      2359808     16       [4, 512, 8, 8]       float32 \n",
            "b16            -           16       [4, 512, 8, 8]       float32 \n",
            "b8.skip        262144      16       [4, 512, 4, 4]       float32 \n",
            "b8.conv0       2359808     16       [4, 512, 8, 8]       float32 \n",
            "b8.conv1       2359808     16       [4, 512, 4, 4]       float32 \n",
            "b8             -           16       [4, 512, 4, 4]       float32 \n",
            "b4.mbstd       -           -        [4, 513, 4, 4]       float32 \n",
            "b4.conv        2364416     16       [4, 512, 4, 4]       float32 \n",
            "b4.fc          4194816     -        [4, 512]             float32 \n",
            "b4.out         513         -        [4, 1]               float32 \n",
            "---            ---         ---      ---                  ---     \n",
            "Total          29012513    544      -                    -       \n",
            "\n",
            "Setting up augmentation...\n",
            "Distributing across 1 GPUs...\n",
            "Setting up training phases...\n",
            "Exporting sample images...\n",
            "Initializing logs...\n",
            "Training for 25000 kimg...\n",
            "\n",
            "tick 0     kimg 0.0      time 1m 45s       sec/tick 13.1    sec/kimg 407.82  maintenance 92.1   cpumem 5.05   gpumem 12.48  augment 0.000\n",
            "Evaluating metrics...\n",
            "{\"results\": {\"fid50k_full\": 339.3515360515414}, \"metric\": \"fid50k_full\", \"total_time\": 3390.2817957401276, \"total_time_str\": \"56m 30s\", \"num_gpus\": 1, \"snapshot_pkl\": \"network-snapshot-000000.pkl\", \"timestamp\": 1651270368.6818228}\n",
            "tick 1     kimg 4.0      time 1h 07m 26s   sec/tick 542.6   sec/kimg 135.66  maintenance 3398.3 cpumem 6.01   gpumem 8.08   augment 0.006\n",
            "tick 2     kimg 8.0      time 1h 16m 32s   sec/tick 544.9   sec/kimg 136.23  maintenance 0.5    cpumem 5.19   gpumem 8.08   augment 0.010\n",
            "tick 3     kimg 12.0     time 1h 25m 36s   sec/tick 544.8   sec/kimg 136.20  maintenance 0.1    cpumem 4.84   gpumem 8.08   augment 0.013\n",
            "tick 4     kimg 16.0     time 1h 34m 43s   sec/tick 546.2   sec/kimg 136.56  maintenance 0.0    cpumem 4.84   gpumem 8.14   augment 0.015\n",
            "tick 5     kimg 20.0     time 1h 43m 48s   sec/tick 545.1   sec/kimg 136.26  maintenance 0.1    cpumem 4.84   gpumem 8.12   augment 0.018\n",
            "Evaluating metrics...\n",
            "{\"results\": {\"fid50k_full\": 440.5726412664539}, \"metric\": \"fid50k_full\", \"total_time\": 708.678284406662, \"total_time_str\": \"11m 49s\", \"num_gpus\": 1, \"snapshot_pkl\": \"network-snapshot-000020.pkl\", \"timestamp\": 1651273817.642693}\n",
            "tick 6     kimg 24.0     time 2h 04m 56s   sec/tick 543.3   sec/kimg 135.82  maintenance 724.9  cpumem 6.52   gpumem 8.08   augment 0.018\n",
            "tick 7     kimg 28.0     time 2h 14m 01s   sec/tick 545.3   sec/kimg 136.32  maintenance 0.1    cpumem 4.87   gpumem 8.11   augment 0.022\n",
            "tick 8     kimg 32.0     time 2h 23m 08s   sec/tick 546.9   sec/kimg 136.74  maintenance 0.0    cpumem 4.85   gpumem 8.10   augment 0.025\n",
            "tick 9     kimg 36.0     time 2h 32m 14s   sec/tick 545.9   sec/kimg 136.47  maintenance 0.1    cpumem 4.85   gpumem 8.13   augment 0.028\n",
            "tick 10    kimg 40.0     time 2h 41m 21s   sec/tick 546.3   sec/kimg 136.57  maintenance 0.1    cpumem 4.85   gpumem 8.11   augment 0.029\n",
            "Evaluating metrics...\n",
            "{\"results\": {\"fid50k_full\": 483.52932564934304}, \"metric\": \"fid50k_full\", \"total_time\": 705.1882379055023, \"total_time_str\": \"11m 45s\", \"num_gpus\": 1, \"snapshot_pkl\": \"network-snapshot-000040.pkl\", \"timestamp\": 1651277265.8053677}\n",
            "tick 11    kimg 44.0     time 3h 02m 25s   sec/tick 544.2   sec/kimg 136.06  maintenance 720.3  cpumem 6.57   gpumem 8.20   augment 0.028\n",
            "tick 12    kimg 48.0     time 3h 11m 33s   sec/tick 547.6   sec/kimg 136.91  maintenance 0.0    cpumem 4.86   gpumem 8.11   augment 0.024\n",
            "tick 13    kimg 52.0     time 3h 20m 39s   sec/tick 546.4   sec/kimg 136.61  maintenance 0.1    cpumem 4.87   gpumem 8.23   augment 0.017\n",
            "tick 14    kimg 56.0     time 3h 29m 45s   sec/tick 546.1   sec/kimg 136.53  maintenance 0.1    cpumem 4.87   gpumem 8.17   augment 0.012\n",
            "tick 15    kimg 60.0     time 3h 38m 51s   sec/tick 545.8   sec/kimg 136.46  maintenance 0.1    cpumem 4.87   gpumem 8.11   augment 0.007\n",
            "Evaluating metrics...\n",
            "{\"results\": {\"fid50k_full\": 350.82334684295955}, \"metric\": \"fid50k_full\", \"total_time\": 702.2358477115631, \"total_time_str\": \"11m 42s\", \"num_gpus\": 1, \"snapshot_pkl\": \"network-snapshot-000060.pkl\", \"timestamp\": 1651280710.8641396}\n",
            "tick 16    kimg 64.0     time 3h 59m 53s   sec/tick 546.6   sec/kimg 136.66  maintenance 715.1  cpumem 6.59   gpumem 8.08   augment 0.003\n",
            "tick 17    kimg 68.0     time 4h 08m 57s   sec/tick 543.5   sec/kimg 135.88  maintenance 0.1    cpumem 4.89   gpumem 8.08   augment 0.000\n",
            "tick 18    kimg 72.0     time 4h 18m 06s   sec/tick 548.9   sec/kimg 137.22  maintenance 0.1    cpumem 4.88   gpumem 7.90   augment 0.000\n",
            "tick 19    kimg 76.0     time 4h 27m 11s   sec/tick 545.3   sec/kimg 136.34  maintenance 0.1    cpumem 4.89   gpumem 7.93   augment 0.000\n",
            "tick 20    kimg 80.0     time 4h 36m 18s   sec/tick 547.0   sec/kimg 136.74  maintenance 0.0    cpumem 4.88   gpumem 7.90   augment 0.000\n",
            "Evaluating metrics...\n",
            "{\"results\": {\"fid50k_full\": 249.33417277758033}, \"metric\": \"fid50k_full\", \"total_time\": 702.9434471130371, \"total_time_str\": \"11m 43s\", \"num_gpus\": 1, \"snapshot_pkl\": \"network-snapshot-000080.pkl\", \"timestamp\": 1651284157.9497275}\n",
            "tick 21    kimg 84.0     time 4h 57m 18s   sec/tick 545.3   sec/kimg 136.33  maintenance 715.1  cpumem 6.63   gpumem 7.90   augment 0.000\n",
            "tick 22    kimg 88.0     time 5h 06m 22s   sec/tick 543.6   sec/kimg 135.91  maintenance 0.1    cpumem 4.91   gpumem 7.90   augment 0.000\n",
            "tick 23    kimg 92.0     time 5h 15m 29s   sec/tick 546.9   sec/kimg 136.73  maintenance 0.1    cpumem 4.90   gpumem 7.90   augment 0.000\n",
            "tick 24    kimg 96.0     time 5h 24m 36s   sec/tick 547.2   sec/kimg 136.80  maintenance 0.0    cpumem 4.90   gpumem 7.90   augment 0.000\n",
            "tick 25    kimg 100.0    time 5h 33m 47s   sec/tick 550.3   sec/kimg 137.58  maintenance 0.1    cpumem 4.90   gpumem 7.90   augment 0.000\n",
            "Evaluating metrics...\n",
            "{\"results\": {\"fid50k_full\": 235.6238298736815}, \"metric\": \"fid50k_full\", \"total_time\": 711.1665713787079, \"total_time_str\": \"11m 51s\", \"num_gpus\": 1, \"snapshot_pkl\": \"network-snapshot-000100.pkl\", \"timestamp\": 1651287616.3615124}\n",
            "tick 26    kimg 104.0    time 5h 54m 58s   sec/tick 546.4   sec/kimg 136.59  maintenance 725.1  cpumem 6.70   gpumem 7.90   augment 0.000\n",
            "tick 27    kimg 108.0    time 6h 04m 03s   sec/tick 544.6   sec/kimg 136.16  maintenance 0.1    cpumem 4.91   gpumem 7.90   augment 0.000\n",
            "tick 28    kimg 112.0    time 6h 13m 10s   sec/tick 547.5   sec/kimg 136.87  maintenance 0.0    cpumem 4.91   gpumem 7.90   augment 0.000\n",
            "tick 29    kimg 116.0    time 6h 22m 16s   sec/tick 545.7   sec/kimg 136.42  maintenance 0.1    cpumem 4.92   gpumem 7.92   augment 0.000\n",
            "tick 30    kimg 120.0    time 6h 31m 22s   sec/tick 545.7   sec/kimg 136.43  maintenance 0.1    cpumem 4.91   gpumem 7.90   augment 0.000\n",
            "Evaluating metrics...\n",
            "{\"results\": {\"fid50k_full\": 257.38113928641064}, \"metric\": \"fid50k_full\", \"total_time\": 705.0517575740814, \"total_time_str\": \"11m 45s\", \"num_gpus\": 1, \"snapshot_pkl\": \"network-snapshot-000120.pkl\", \"timestamp\": 1651291063.761478}\n",
            "tick 31    kimg 124.0    time 6h 52m 25s   sec/tick 546.1   sec/kimg 136.52  maintenance 717.4  cpumem 6.63   gpumem 7.90   augment 0.000\n",
            "tick 32    kimg 128.0    time 7h 01m 31s   sec/tick 545.9   sec/kimg 136.48  maintenance 0.0    cpumem 4.93   gpumem 7.90   augment 0.000\n",
            "tick 33    kimg 132.0    time 7h 10m 35s   sec/tick 543.1   sec/kimg 135.78  maintenance 0.1    cpumem 4.93   gpumem 7.93   augment 0.000\n",
            "tick 34    kimg 136.0    time 7h 19m 40s   sec/tick 545.6   sec/kimg 136.40  maintenance 0.1    cpumem 4.93   gpumem 7.93   augment 0.000\n",
            "tick 35    kimg 140.0    time 7h 28m 45s   sec/tick 544.5   sec/kimg 136.12  maintenance 0.1    cpumem 4.92   gpumem 8.04   augment 0.000\n",
            "Evaluating metrics...\n",
            "{\"results\": {\"fid50k_full\": 262.1572932894498}, \"metric\": \"fid50k_full\", \"total_time\": 703.560866355896, \"total_time_str\": \"11m 44s\", \"num_gpus\": 1, \"snapshot_pkl\": \"network-snapshot-000140.pkl\", \"timestamp\": 1651294505.031092}\n",
            "tick 36    kimg 144.0    time 7h 49m 47s   sec/tick 546.6   sec/kimg 136.66  maintenance 715.3  cpumem 6.65   gpumem 8.07   augment 0.000\n",
            "tick 37    kimg 148.0    time 7h 58m 52s   sec/tick 545.3   sec/kimg 136.32  maintenance 0.1    cpumem 4.94   gpumem 7.90   augment 0.000\n",
            "tick 38    kimg 152.0    time 8h 07m 56s   sec/tick 544.2   sec/kimg 136.04  maintenance 0.1    cpumem 4.94   gpumem 7.93   augment 0.000\n",
            "tick 39    kimg 156.0    time 8h 17m 03s   sec/tick 547.1   sec/kimg 136.77  maintenance 0.1    cpumem 4.95   gpumem 7.90   augment 0.000\n",
            "tick 40    kimg 160.0    time 8h 26m 12s   sec/tick 548.4   sec/kimg 137.10  maintenance 0.0    cpumem 4.99   gpumem 7.90   augment 0.000\n",
            "Evaluating metrics...\n",
            "{\"results\": {\"fid50k_full\": 237.8713816735061}, \"metric\": \"fid50k_full\", \"total_time\": 704.3618452548981, \"total_time_str\": \"11m 44s\", \"num_gpus\": 1, \"snapshot_pkl\": \"network-snapshot-000160.pkl\", \"timestamp\": 1651297954.7495008}\n",
            "tick 41    kimg 164.0    time 8h 47m 17s   sec/tick 547.6   sec/kimg 136.89  maintenance 718.0  cpumem 6.66   gpumem 7.90   augment 0.000\n",
            "tick 42    kimg 168.0    time 8h 57m 09s   sec/tick 591.6   sec/kimg 147.90  maintenance 0.1    cpumem 4.96   gpumem 7.90   augment 0.000\n",
            "tick 43    kimg 172.0    time 9h 06m 16s   sec/tick 546.5   sec/kimg 136.63  maintenance 0.1    cpumem 4.96   gpumem 7.90   augment 0.000\n",
            "tick 44    kimg 176.0    time 9h 15m 25s   sec/tick 549.6   sec/kimg 137.41  maintenance 0.0    cpumem 4.96   gpumem 7.91   augment 0.000\n",
            "tick 45    kimg 180.0    time 9h 24m 33s   sec/tick 547.8   sec/kimg 136.94  maintenance 0.1    cpumem 4.95   gpumem 7.90   augment 0.000\n",
            "Evaluating metrics...\n",
            "{\"results\": {\"fid50k_full\": 207.0739855049544}, \"metric\": \"fid50k_full\", \"total_time\": 708.456960439682, \"total_time_str\": \"11m 48s\", \"num_gpus\": 1, \"snapshot_pkl\": \"network-snapshot-000180.pkl\", \"timestamp\": 1651301459.948977}\n",
            "tick 46    kimg 184.0    time 9h 45m 43s   sec/tick 547.1   sec/kimg 136.79  maintenance 722.4  cpumem 6.85   gpumem 7.90   augment 0.000\n",
            "tick 47    kimg 188.0    time 9h 54m 50s   sec/tick 547.2   sec/kimg 136.81  maintenance 0.1    cpumem 4.97   gpumem 7.90   augment 0.000\n",
            "tick 48    kimg 192.0    time 10h 03m 59s  sec/tick 548.6   sec/kimg 137.16  maintenance 0.0    cpumem 4.97   gpumem 7.90   augment 0.000\n",
            "tick 49    kimg 196.0    time 10h 13m 04s  sec/tick 545.1   sec/kimg 136.29  maintenance 0.1    cpumem 4.98   gpumem 7.90   augment 0.000\n",
            "tick 50    kimg 200.0    time 10h 22m 11s  sec/tick 547.2   sec/kimg 136.81  maintenance 0.1    cpumem 4.97   gpumem 7.91   augment 0.000\n",
            "Evaluating metrics...\n",
            "{\"results\": {\"fid50k_full\": 165.576427955995}, \"metric\": \"fid50k_full\", \"total_time\": 707.4733748435974, \"total_time_str\": \"11m 47s\", \"num_gpus\": 1, \"snapshot_pkl\": \"network-snapshot-000200.pkl\", \"timestamp\": 1651304916.2490022}\n",
            "tick 51    kimg 204.0    time 10h 43m 19s  sec/tick 547.4   sec/kimg 136.86  maintenance 720.3  cpumem 6.83   gpumem 7.90   augment 0.000\n",
            "tick 52    kimg 208.0    time 10h 52m 28s  sec/tick 549.0   sec/kimg 137.26  maintenance 0.0    cpumem 4.99   gpumem 7.92   augment 0.000\n",
            "tick 53    kimg 212.0    time 11h 01m 35s  sec/tick 547.6   sec/kimg 136.89  maintenance 0.1    cpumem 4.99   gpumem 7.90   augment 0.000\n",
            "tick 54    kimg 216.0    time 11h 10m 42s  sec/tick 546.7   sec/kimg 136.66  maintenance 0.1    cpumem 4.99   gpumem 7.91   augment 0.000\n",
            "tick 55    kimg 220.0    time 11h 19m 50s  sec/tick 548.0   sec/kimg 137.00  maintenance 0.1    cpumem 4.98   gpumem 7.90   augment 0.000\n",
            "Evaluating metrics...\n",
            "{\"results\": {\"fid50k_full\": 140.02198732534544}, \"metric\": \"fid50k_full\", \"total_time\": 710.7973942756653, \"total_time_str\": \"11m 51s\", \"num_gpus\": 1, \"snapshot_pkl\": \"network-snapshot-000220.pkl\", \"timestamp\": 1651308380.3816977}\n",
            "tick 56    kimg 224.0    time 11h 41m 05s  sec/tick 549.4   sec/kimg 137.35  maintenance 725.2  cpumem 6.85   gpumem 7.92   augment 0.000\n",
            "tick 57    kimg 228.0    time 11h 50m 13s  sec/tick 547.7   sec/kimg 136.93  maintenance 0.1    cpumem 5.00   gpumem 7.92   augment 0.000\n",
            "tick 58    kimg 232.0    time 11h 59m 20s  sec/tick 547.6   sec/kimg 136.90  maintenance 0.1    cpumem 5.00   gpumem 7.94   augment 0.000\n",
            "tick 59    kimg 236.0    time 12h 08m 26s  sec/tick 545.7   sec/kimg 136.43  maintenance 0.1    cpumem 5.00   gpumem 7.90   augment 0.000\n",
            "tick 60    kimg 240.0    time 12h 17m 36s  sec/tick 549.6   sec/kimg 137.41  maintenance 0.0    cpumem 5.00   gpumem 7.90   augment 0.000\n",
            "Evaluating metrics...\n",
            "{\"results\": {\"fid50k_full\": 122.19539411790346}, \"metric\": \"fid50k_full\", \"total_time\": 706.4133687019348, \"total_time_str\": \"11m 46s\", \"num_gpus\": 1, \"snapshot_pkl\": \"network-snapshot-000240.pkl\", \"timestamp\": 1651311841.8839824}\n",
            "tick 61    kimg 244.0    time 12h 38m 45s  sec/tick 547.6   sec/kimg 136.91  maintenance 721.6  cpumem 6.77   gpumem 7.90   augment 0.000\n",
            "tick 62    kimg 248.0    time 12h 47m 53s  sec/tick 547.4   sec/kimg 136.86  maintenance 0.1    cpumem 5.02   gpumem 7.95   augment 0.000\n",
            "tick 63    kimg 252.0    time 12h 57m 00s  sec/tick 547.7   sec/kimg 136.93  maintenance 0.1    cpumem 5.02   gpumem 7.90   augment 0.000\n",
            "tick 64    kimg 256.0    time 13h 06m 10s  sec/tick 549.6   sec/kimg 137.40  maintenance 0.0    cpumem 5.04   gpumem 7.90   augment 0.000\n",
            "tick 65    kimg 260.0    time 13h 15m 17s  sec/tick 546.6   sec/kimg 136.65  maintenance 0.1    cpumem 5.01   gpumem 7.90   augment 0.000\n",
            "Evaluating metrics...\n",
            "{\"results\": {\"fid50k_full\": 108.19404586024302}, \"metric\": \"fid50k_full\", \"total_time\": 707.7450084686279, \"total_time_str\": \"11m 48s\", \"num_gpus\": 1, \"snapshot_pkl\": \"network-snapshot-000260.pkl\", \"timestamp\": 1651315304.7261422}\n",
            "tick 66    kimg 264.0    time 13h 36m 27s  sec/tick 547.6   sec/kimg 136.89  maintenance 723.2  cpumem 6.88   gpumem 7.90   augment 0.000\n",
            "tick 67    kimg 268.0    time 13h 45m 35s  sec/tick 547.7   sec/kimg 136.94  maintenance 0.1    cpumem 5.03   gpumem 7.90   augment 0.000\n",
            "tick 68    kimg 272.0    time 13h 54m 44s  sec/tick 549.0   sec/kimg 137.25  maintenance 0.0    cpumem 5.03   gpumem 7.90   augment 0.000\n",
            "tick 69    kimg 276.0    time 14h 03m 53s  sec/tick 548.3   sec/kimg 137.08  maintenance 0.1    cpumem 5.03   gpumem 8.01   augment 0.000\n",
            "tick 70    kimg 280.0    time 14h 12m 58s  sec/tick 545.3   sec/kimg 136.33  maintenance 0.1    cpumem 5.03   gpumem 7.95   augment 0.000\n",
            "Evaluating metrics...\n",
            "{\"results\": {\"fid50k_full\": 104.61785646372545}, \"metric\": \"fid50k_full\", \"total_time\": 705.0171711444855, \"total_time_str\": \"11m 45s\", \"num_gpus\": 1, \"snapshot_pkl\": \"network-snapshot-000280.pkl\", \"timestamp\": 1651318762.473008}\n",
            "tick 71    kimg 284.0    time 14h 34m 05s  sec/tick 547.0   sec/kimg 136.75  maintenance 719.4  cpumem 6.87   gpumem 7.90   augment 0.000\n",
            "tick 72    kimg 288.0    time 14h 43m 13s  sec/tick 548.4   sec/kimg 137.11  maintenance 0.0    cpumem 5.04   gpumem 7.90   augment 0.000\n",
            "\n",
            "Aborted!\n",
            "^C\n"
          ]
        }
      ],
      "source": [
        "import os\n",
        "\n",
        "# !export PYTORCH_CUDA_ALLOC_CONF=max_split_size_mb:128\n",
        "\n",
        "# Modify these to suit your needs\n",
        "OUTPUT = \"/content/drive/MyDrive/Outsmart/output\"\n",
        "DATA = \"/content/drive/MyDrive/Outsmart/dataset\"\n",
        "# Snap: How often should the model generate samples and a .pkl file\n",
        "SNAP = 5\n",
        "# Mirrored: Should the images be mirrored left to right?\n",
        "MIRRORED = 1\n",
        "\n",
        "\n",
        "# Build the command and run it\n",
        "cmd = f\"/usr/bin/python3 /content/drive/MyDrive/Outsmart/stylegan2-ada-pytorch/train.py --cfg=stylegan2 --gpus=1 --gamma=8 --snap {SNAP} --outdir {OUTPUT} --data {DATA} --mirror={MIRRORED} --aug=ada\"\n",
        "!{cmd}"
      ]
    },
    {
      "cell_type": "markdown",
      "metadata": {
        "id": "y8MZ2hfhyB35"
      },
      "source": [
        "### Resume training"
      ]
    },
    {
      "cell_type": "markdown",
      "metadata": {
        "id": "fArIM3uOJ8fs"
      },
      "source": [
        "Install necessary files first, then resume training"
      ]
    },
    {
      "cell_type": "markdown",
      "metadata": {
        "id": "BdNMJPlNNqxA"
      },
      "source": [
        "**Note:** `%tensorflow_version` 1.x is needed for this flow to work!"
      ]
    },
    {
      "cell_type": "code",
      "execution_count": null,
      "metadata": {
        "colab": {
          "base_uri": "https://localhost:8080/"
        },
        "id": "7fNrhw89yCVx",
        "outputId": "1353b31a-b842-4fc8-ce67-6c61147ffb82"
      },
      "outputs": [
        {
          "output_type": "stream",
          "name": "stdout",
          "text": [
            "WARNING: Tensorflow 1 is deprecated, and support will be removed on August 1, 2022.\n",
            "After that, `%tensorflow_version 1.x` will throw an error.\n",
            "\n",
            "Your notebook should be updated to use Tensorflow 2.\n",
            "See the guide at https://www.tensorflow.org/guide/migrate#migrate-from-tensorflow-1x-to-tensorflow-2.\n",
            "\n",
            "TensorFlow 1.x selected.\n",
            "Looking in indexes: https://pypi.org/simple, https://us-python.pkg.dev/colab-wheels/public/simple/\n",
            "Collecting ninja\n",
            "  Downloading ninja-1.10.2.3-py2.py3-none-manylinux_2_5_x86_64.manylinux1_x86_64.whl (108 kB)\n",
            "\u001b[K     |████████████████████████████████| 108 kB 7.5 MB/s \n",
            "\u001b[?25hInstalling collected packages: ninja\n",
            "Successfully installed ninja-1.10.2.3\n",
            "Looking in indexes: https://pypi.org/simple, https://us-python.pkg.dev/colab-wheels/public/simple/\n",
            "Collecting torch==1.8.1\n",
            "  Downloading torch-1.8.1-cp37-cp37m-manylinux1_x86_64.whl (804.1 MB)\n",
            "\u001b[K     |████████████████████████████████| 804.1 MB 2.5 kB/s \n",
            "\u001b[?25hCollecting torchvision==0.9.1\n",
            "  Downloading torchvision-0.9.1-cp37-cp37m-manylinux1_x86_64.whl (17.4 MB)\n",
            "\u001b[K     |████████████████████████████████| 17.4 MB 43.7 MB/s \n",
            "\u001b[?25hCollecting torchaudio==0.8.1\n",
            "  Downloading torchaudio-0.8.1-cp37-cp37m-manylinux1_x86_64.whl (1.9 MB)\n",
            "\u001b[K     |████████████████████████████████| 1.9 MB 87.1 MB/s \n",
            "\u001b[?25hCollecting torchtext==0.9.1\n",
            "  Downloading torchtext-0.9.1-cp37-cp37m-manylinux1_x86_64.whl (7.1 MB)\n",
            "\u001b[K     |████████████████████████████████| 7.1 MB 40.5 MB/s \n",
            "\u001b[?25hRequirement already satisfied: typing-extensions in /usr/local/lib/python3.7/dist-packages (from torch==1.8.1) (4.1.1)\n",
            "Requirement already satisfied: numpy in /usr/local/lib/python3.7/dist-packages (from torch==1.8.1) (1.21.6)\n",
            "Requirement already satisfied: pillow>=4.1.1 in /usr/local/lib/python3.7/dist-packages (from torchvision==0.9.1) (7.1.2)\n",
            "Requirement already satisfied: tqdm in /usr/local/lib/python3.7/dist-packages (from torchtext==0.9.1) (4.64.0)\n",
            "Requirement already satisfied: requests in /usr/local/lib/python3.7/dist-packages (from torchtext==0.9.1) (2.23.0)\n",
            "Requirement already satisfied: urllib3!=1.25.0,!=1.25.1,<1.26,>=1.21.1 in /usr/local/lib/python3.7/dist-packages (from requests->torchtext==0.9.1) (1.24.3)\n",
            "Requirement already satisfied: idna<3,>=2.5 in /usr/local/lib/python3.7/dist-packages (from requests->torchtext==0.9.1) (2.10)\n",
            "Requirement already satisfied: certifi>=2017.4.17 in /usr/local/lib/python3.7/dist-packages (from requests->torchtext==0.9.1) (2022.6.15)\n",
            "Requirement already satisfied: chardet<4,>=3.0.2 in /usr/local/lib/python3.7/dist-packages (from requests->torchtext==0.9.1) (3.0.4)\n",
            "Installing collected packages: torch, torchvision, torchtext, torchaudio\n",
            "  Attempting uninstall: torch\n",
            "    Found existing installation: torch 1.12.0+cu113\n",
            "    Uninstalling torch-1.12.0+cu113:\n",
            "      Successfully uninstalled torch-1.12.0+cu113\n",
            "  Attempting uninstall: torchvision\n",
            "    Found existing installation: torchvision 0.13.0+cu113\n",
            "    Uninstalling torchvision-0.13.0+cu113:\n",
            "      Successfully uninstalled torchvision-0.13.0+cu113\n",
            "  Attempting uninstall: torchtext\n",
            "    Found existing installation: torchtext 0.13.0\n",
            "    Uninstalling torchtext-0.13.0:\n",
            "      Successfully uninstalled torchtext-0.13.0\n",
            "  Attempting uninstall: torchaudio\n",
            "    Found existing installation: torchaudio 0.12.0+cu113\n",
            "    Uninstalling torchaudio-0.12.0+cu113:\n",
            "      Successfully uninstalled torchaudio-0.12.0+cu113\n",
            "Successfully installed torch-1.8.1 torchaudio-0.8.1 torchtext-0.9.1 torchvision-0.9.1\n",
            "\n",
            "Training options:\n",
            "{\n",
            "  \"num_gpus\": 1,\n",
            "  \"image_snapshot_ticks\": 10,\n",
            "  \"network_snapshot_ticks\": 10,\n",
            "  \"metrics\": [\n",
            "    \"fid50k_full\"\n",
            "  ],\n",
            "  \"random_seed\": 0,\n",
            "  \"training_set_kwargs\": {\n",
            "    \"class_name\": \"training.dataset.ImageFolderDataset\",\n",
            "    \"path\": \"/content/drive/MyDrive/Outsmart/dataset\",\n",
            "    \"use_labels\": false,\n",
            "    \"max_size\": 20903,\n",
            "    \"xflip\": true,\n",
            "    \"resolution\": 1024\n",
            "  },\n",
            "  \"data_loader_kwargs\": {\n",
            "    \"pin_memory\": true,\n",
            "    \"num_workers\": 3,\n",
            "    \"prefetch_factor\": 2\n",
            "  },\n",
            "  \"G_kwargs\": {\n",
            "    \"class_name\": \"training.networks.Generator\",\n",
            "    \"z_dim\": 512,\n",
            "    \"w_dim\": 512,\n",
            "    \"mapping_kwargs\": {\n",
            "      \"num_layers\": 8\n",
            "    },\n",
            "    \"synthesis_kwargs\": {\n",
            "      \"channel_base\": 32768,\n",
            "      \"channel_max\": 512,\n",
            "      \"num_fp16_res\": 4,\n",
            "      \"conv_clamp\": 256\n",
            "    }\n",
            "  },\n",
            "  \"D_kwargs\": {\n",
            "    \"class_name\": \"training.networks.Discriminator\",\n",
            "    \"block_kwargs\": {},\n",
            "    \"mapping_kwargs\": {},\n",
            "    \"epilogue_kwargs\": {\n",
            "      \"mbstd_group_size\": 4\n",
            "    },\n",
            "    \"channel_base\": 32768,\n",
            "    \"channel_max\": 512,\n",
            "    \"num_fp16_res\": 4,\n",
            "    \"conv_clamp\": 256\n",
            "  },\n",
            "  \"G_opt_kwargs\": {\n",
            "    \"class_name\": \"torch.optim.Adam\",\n",
            "    \"lr\": 0.002,\n",
            "    \"betas\": [\n",
            "      0,\n",
            "      0.99\n",
            "    ],\n",
            "    \"eps\": 1e-08\n",
            "  },\n",
            "  \"D_opt_kwargs\": {\n",
            "    \"class_name\": \"torch.optim.Adam\",\n",
            "    \"lr\": 0.002,\n",
            "    \"betas\": [\n",
            "      0,\n",
            "      0.99\n",
            "    ],\n",
            "    \"eps\": 1e-08\n",
            "  },\n",
            "  \"loss_kwargs\": {\n",
            "    \"class_name\": \"training.loss.StyleGAN2Loss\",\n",
            "    \"r1_gamma\": 8.0\n",
            "  },\n",
            "  \"total_kimg\": 25000,\n",
            "  \"batch_size\": 32,\n",
            "  \"batch_gpu\": 4,\n",
            "  \"ema_kimg\": 10,\n",
            "  \"ema_rampup\": null,\n",
            "  \"ada_target\": 0.6,\n",
            "  \"augment_kwargs\": {\n",
            "    \"class_name\": \"training.augment.AugmentPipe\",\n",
            "    \"xflip\": 1,\n",
            "    \"rotate90\": 1,\n",
            "    \"xint\": 1,\n",
            "    \"scale\": 1,\n",
            "    \"rotate\": 1,\n",
            "    \"aniso\": 1,\n",
            "    \"xfrac\": 1,\n",
            "    \"brightness\": 1,\n",
            "    \"contrast\": 1,\n",
            "    \"lumaflip\": 1,\n",
            "    \"hue\": 1,\n",
            "    \"saturation\": 1\n",
            "  },\n",
            "  \"resume_pkl\": \"/content/drive/MyDrive/Outsmart/output/00062-dataset-mirror-stylegan2-gamma8-ada-resumecustom/network-snapshot-000120.pkl\",\n",
            "  \"ada_kimg\": 100,\n",
            "  \"run_dir\": \"/content/drive/MyDrive/Outsmart/output/00063-dataset-mirror-stylegan2-gamma8-ada-resumecustom\"\n",
            "}\n",
            "\n",
            "Output directory:   /content/drive/MyDrive/Outsmart/output/00063-dataset-mirror-stylegan2-gamma8-ada-resumecustom\n",
            "Training data:      /content/drive/MyDrive/Outsmart/dataset\n",
            "Training duration:  25000 kimg\n",
            "Number of GPUs:     1\n",
            "Number of images:   20903\n",
            "Image resolution:   1024\n",
            "Conditional model:  False\n",
            "Dataset x-flips:    True\n",
            "\n",
            "Creating output directory...\n",
            "Launching processes...\n",
            "Loading training set...\n",
            "\n",
            "Num images:  41806\n",
            "Image shape: [3, 1024, 1024]\n",
            "Label shape: [0]\n",
            "\n",
            "Constructing networks...\n",
            "Resuming from \"/content/drive/MyDrive/Outsmart/output/00062-dataset-mirror-stylegan2-gamma8-ada-resumecustom/network-snapshot-000120.pkl\"\n",
            "Setting up PyTorch plugin \"bias_act_plugin\"... Done.\n",
            "Setting up PyTorch plugin \"upfirdn2d_plugin\"... Done.\n",
            "\n",
            "Generator              Parameters  Buffers  Output shape         Datatype\n",
            "---                    ---         ---      ---                  ---     \n",
            "mapping.fc0            262656      -        [4, 512]             float32 \n",
            "mapping.fc1            262656      -        [4, 512]             float32 \n",
            "mapping.fc2            262656      -        [4, 512]             float32 \n",
            "mapping.fc3            262656      -        [4, 512]             float32 \n",
            "mapping.fc4            262656      -        [4, 512]             float32 \n",
            "mapping.fc5            262656      -        [4, 512]             float32 \n",
            "mapping.fc6            262656      -        [4, 512]             float32 \n",
            "mapping.fc7            262656      -        [4, 512]             float32 \n",
            "mapping                -           512      [4, 18, 512]         float32 \n",
            "synthesis.b4.conv1     2622465     32       [4, 512, 4, 4]       float32 \n",
            "synthesis.b4.torgb     264195      -        [4, 3, 4, 4]         float32 \n",
            "synthesis.b4:0         8192        16       [4, 512, 4, 4]       float32 \n",
            "synthesis.b4:1         -           -        [4, 512, 4, 4]       float32 \n",
            "synthesis.b8.conv0     2622465     80       [4, 512, 8, 8]       float32 \n",
            "synthesis.b8.conv1     2622465     80       [4, 512, 8, 8]       float32 \n",
            "synthesis.b8.torgb     264195      -        [4, 3, 8, 8]         float32 \n",
            "synthesis.b8:0         -           16       [4, 512, 8, 8]       float32 \n",
            "synthesis.b8:1         -           -        [4, 512, 8, 8]       float32 \n",
            "synthesis.b16.conv0    2622465     272      [4, 512, 16, 16]     float32 \n",
            "synthesis.b16.conv1    2622465     272      [4, 512, 16, 16]     float32 \n",
            "synthesis.b16.torgb    264195      -        [4, 3, 16, 16]       float32 \n",
            "synthesis.b16:0        -           16       [4, 512, 16, 16]     float32 \n",
            "synthesis.b16:1        -           -        [4, 512, 16, 16]     float32 \n",
            "synthesis.b32.conv0    2622465     1040     [4, 512, 32, 32]     float32 \n",
            "synthesis.b32.conv1    2622465     1040     [4, 512, 32, 32]     float32 \n",
            "synthesis.b32.torgb    264195      -        [4, 3, 32, 32]       float32 \n",
            "synthesis.b32:0        -           16       [4, 512, 32, 32]     float32 \n",
            "synthesis.b32:1        -           -        [4, 512, 32, 32]     float32 \n",
            "synthesis.b64.conv0    2622465     4112     [4, 512, 64, 64]     float32 \n",
            "synthesis.b64.conv1    2622465     4112     [4, 512, 64, 64]     float32 \n",
            "synthesis.b64.torgb    264195      -        [4, 3, 64, 64]       float32 \n",
            "synthesis.b64:0        -           16       [4, 512, 64, 64]     float32 \n",
            "synthesis.b64:1        -           -        [4, 512, 64, 64]     float32 \n",
            "synthesis.b128.conv0   1442561     16400    [4, 256, 128, 128]   float16 \n",
            "synthesis.b128.conv1   721409      16400    [4, 256, 128, 128]   float16 \n",
            "synthesis.b128.torgb   132099      -        [4, 3, 128, 128]     float16 \n",
            "synthesis.b128:0       -           16       [4, 256, 128, 128]   float16 \n",
            "synthesis.b128:1       -           -        [4, 256, 128, 128]   float32 \n",
            "synthesis.b256.conv0   426369      65552    [4, 128, 256, 256]   float16 \n",
            "synthesis.b256.conv1   213249      65552    [4, 128, 256, 256]   float16 \n",
            "synthesis.b256.torgb   66051       -        [4, 3, 256, 256]     float16 \n",
            "synthesis.b256:0       -           16       [4, 128, 256, 256]   float16 \n",
            "synthesis.b256:1       -           -        [4, 128, 256, 256]   float32 \n",
            "synthesis.b512.conv0   139457      262160   [4, 64, 512, 512]    float16 \n",
            "synthesis.b512.conv1   69761       262160   [4, 64, 512, 512]    float16 \n",
            "synthesis.b512.torgb   33027       -        [4, 3, 512, 512]     float16 \n",
            "synthesis.b512:0       -           16       [4, 64, 512, 512]    float16 \n",
            "synthesis.b512:1       -           -        [4, 64, 512, 512]    float32 \n",
            "synthesis.b1024.conv0  51297       1048592  [4, 32, 1024, 1024]  float16 \n",
            "synthesis.b1024.conv1  25665       1048592  [4, 32, 1024, 1024]  float16 \n",
            "synthesis.b1024.torgb  16515       -        [4, 3, 1024, 1024]   float16 \n",
            "synthesis.b1024:0      -           16       [4, 32, 1024, 1024]  float16 \n",
            "synthesis.b1024:1      -           -        [4, 32, 1024, 1024]  float32 \n",
            "---                    ---         ---      ---                  ---     \n",
            "Total                  30370060    2797104  -                    -       \n",
            "\n",
            "\n",
            "Discriminator  Parameters  Buffers  Output shape         Datatype\n",
            "---            ---         ---      ---                  ---     \n",
            "b1024.fromrgb  128         16       [4, 32, 1024, 1024]  float16 \n",
            "b1024.skip     2048        16       [4, 64, 512, 512]    float16 \n",
            "b1024.conv0    9248        16       [4, 32, 1024, 1024]  float16 \n",
            "b1024.conv1    18496       16       [4, 64, 512, 512]    float16 \n",
            "b1024          -           16       [4, 64, 512, 512]    float16 \n",
            "b512.skip      8192        16       [4, 128, 256, 256]   float16 \n",
            "b512.conv0     36928       16       [4, 64, 512, 512]    float16 \n",
            "b512.conv1     73856       16       [4, 128, 256, 256]   float16 \n",
            "b512           -           16       [4, 128, 256, 256]   float16 \n",
            "b256.skip      32768       16       [4, 256, 128, 128]   float16 \n",
            "b256.conv0     147584      16       [4, 128, 256, 256]   float16 \n",
            "b256.conv1     295168      16       [4, 256, 128, 128]   float16 \n",
            "b256           -           16       [4, 256, 128, 128]   float16 \n",
            "b128.skip      131072      16       [4, 512, 64, 64]     float16 \n",
            "b128.conv0     590080      16       [4, 256, 128, 128]   float16 \n",
            "b128.conv1     1180160     16       [4, 512, 64, 64]     float16 \n",
            "b128           -           16       [4, 512, 64, 64]     float16 \n",
            "b64.skip       262144      16       [4, 512, 32, 32]     float32 \n",
            "b64.conv0      2359808     16       [4, 512, 64, 64]     float32 \n",
            "b64.conv1      2359808     16       [4, 512, 32, 32]     float32 \n",
            "b64            -           16       [4, 512, 32, 32]     float32 \n",
            "b32.skip       262144      16       [4, 512, 16, 16]     float32 \n",
            "b32.conv0      2359808     16       [4, 512, 32, 32]     float32 \n",
            "b32.conv1      2359808     16       [4, 512, 16, 16]     float32 \n",
            "b32            -           16       [4, 512, 16, 16]     float32 \n",
            "b16.skip       262144      16       [4, 512, 8, 8]       float32 \n",
            "b16.conv0      2359808     16       [4, 512, 16, 16]     float32 \n",
            "b16.conv1      2359808     16       [4, 512, 8, 8]       float32 \n",
            "b16            -           16       [4, 512, 8, 8]       float32 \n",
            "b8.skip        262144      16       [4, 512, 4, 4]       float32 \n",
            "b8.conv0       2359808     16       [4, 512, 8, 8]       float32 \n",
            "b8.conv1       2359808     16       [4, 512, 4, 4]       float32 \n",
            "b8             -           16       [4, 512, 4, 4]       float32 \n",
            "b4.mbstd       -           -        [4, 513, 4, 4]       float32 \n",
            "b4.conv        2364416     16       [4, 512, 4, 4]       float32 \n",
            "b4.fc          4194816     -        [4, 512]             float32 \n",
            "b4.out         513         -        [4, 1]               float32 \n",
            "---            ---         ---      ---                  ---     \n",
            "Total          29012513    544      -                    -       \n",
            "\n",
            "Setting up augmentation...\n",
            "Distributing across 1 GPUs...\n",
            "Setting up training phases...\n",
            "Exporting sample images...\n",
            "Initializing logs...\n",
            "Training for 25000 kimg...\n",
            "\n",
            "tick 0     kimg 0.0      time 4m 27s       sec/tick 31.1    sec/kimg 971.33  maintenance 235.5  cpumem 5.11   gpumem 13.25  augment 0.000\n",
            "Evaluating metrics...\n",
            "{\"results\": {\"fid50k_full\": 8.077306987084802}, \"metric\": \"fid50k_full\", \"total_time\": 5543.0782742500305, \"total_time_str\": \"1h 32m 23s\", \"num_gpus\": 1, \"snapshot_pkl\": \"network-snapshot-000000.pkl\", \"timestamp\": 1658738442.3120487}\n",
            "tick 1     kimg 4.0      time 2h 06m 40s   sec/tick 1776.5  sec/kimg 444.14  maintenance 5557.0 cpumem 4.68   gpumem 8.11   augment 0.037\n",
            "tick 2     kimg 8.0      time 2h 36m 25s   sec/tick 1784.5  sec/kimg 446.12  maintenance 0.3    cpumem 4.59   gpumem 8.18   augment 0.069\n",
            "tick 3     kimg 12.0     time 3h 06m 12s   sec/tick 1786.9  sec/kimg 446.73  maintenance 0.3    cpumem 4.48   gpumem 8.23   augment 0.105\n",
            "tick 4     kimg 16.0     time 3h 36m 05s   sec/tick 1793.0  sec/kimg 448.26  maintenance 0.0    cpumem 4.42   gpumem 8.37   augment 0.134\n",
            "tick 5     kimg 20.0     time 4h 05m 56s   sec/tick 1790.7  sec/kimg 447.67  maintenance 0.3    cpumem 4.40   gpumem 8.31   augment 0.169\n",
            "tick 6     kimg 24.0     time 4h 35m 43s   sec/tick 1786.7  sec/kimg 446.67  maintenance 0.3    cpumem 4.40   gpumem 8.16   augment 0.201\n",
            "tick 7     kimg 28.0     time 5h 05m 38s   sec/tick 1794.4  sec/kimg 448.60  maintenance 0.3    cpumem 4.40   gpumem 8.43   augment 0.225\n",
            "tick 8     kimg 32.0     time 5h 35m 37s   sec/tick 1799.6  sec/kimg 449.89  maintenance 0.0    cpumem 4.40   gpumem 8.29   augment 0.255\n",
            "tick 9     kimg 36.0     time 6h 05m 34s   sec/tick 1796.4  sec/kimg 449.11  maintenance 0.3    cpumem 4.40   gpumem 8.30   augment 0.287\n",
            "tick 10    kimg 40.0     time 6h 35m 32s   sec/tick 1797.8  sec/kimg 449.45  maintenance 0.3    cpumem 4.40   gpumem 8.37   augment 0.316\n",
            "Evaluating metrics...\n",
            "{\"results\": {\"fid50k_full\": 7.951887536999377}, \"metric\": \"fid50k_full\", \"total_time\": 2292.4426724910736, \"total_time_str\": \"38m 12s\", \"num_gpus\": 1, \"snapshot_pkl\": \"network-snapshot-000040.pkl\", \"timestamp\": 1658758659.393095}\n",
            "tick 11    kimg 44.0     time 7h 43m 54s   sec/tick 1793.2  sec/kimg 448.30  maintenance 2309.1 cpumem 4.42   gpumem 8.52   augment 0.337\n",
            "tick 12    kimg 48.0     time 8h 13m 59s   sec/tick 1804.8  sec/kimg 451.19  maintenance 0.0    cpumem 4.41   gpumem 8.36   augment 0.361\n",
            "tick 13    kimg 52.0     time 8h 44m 00s   sec/tick 1801.3  sec/kimg 450.32  maintenance 0.3    cpumem 4.41   gpumem 8.41   augment 0.385\n",
            "tick 14    kimg 56.0     time 9h 14m 03s   sec/tick 1802.0  sec/kimg 450.49  maintenance 0.3    cpumem 4.41   gpumem 8.29   augment 0.406\n",
            "tick 15    kimg 60.0     time 9h 44m 06s   sec/tick 1803.0  sec/kimg 450.75  maintenance 0.3    cpumem 4.42   gpumem 8.38   augment 0.429\n",
            "tick 16    kimg 64.0     time 10h 14m 13s  sec/tick 1807.0  sec/kimg 451.74  maintenance 0.0    cpumem 4.42   gpumem 8.41   augment 0.448\n",
            "tick 17    kimg 68.0     time 10h 44m 12s  sec/tick 1798.4  sec/kimg 449.59  maintenance 0.3    cpumem 4.42   gpumem 8.37   augment 0.467\n",
            "tick 18    kimg 72.0     time 11h 14m 17s  sec/tick 1804.9  sec/kimg 451.22  maintenance 0.3    cpumem 4.43   gpumem 8.37   augment 0.476\n",
            "tick 19    kimg 76.0     time 11h 44m 22s  sec/tick 1805.1  sec/kimg 451.28  maintenance 0.3    cpumem 4.43   gpumem 8.36   augment 0.485\n",
            "Traceback (most recent call last):\n",
            "\n",
            "Exception ignored in: "
          ]
        }
      ],
      "source": [
        "%tensorflow_version 1.x\n",
        "!pip install ninja\n",
        "!pip install torch==1.8.1 torchvision==0.9.1 torchaudio==0.8.1 torchtext==0.9.1\n",
        "\n",
        "import os\n",
        "\n",
        "# Modify these to suit your needs\n",
        "OUTPUT = \"/content/drive/MyDrive/Outsmart/output\"\n",
        "FOLDER = \"00062-dataset-mirror-stylegan2-gamma8-ada-resumecustom\"\n",
        "NETWORK = \"network-snapshot-000120.pkl\"\n",
        "RESUME = os.path.join(OUTPUT, FOLDER, NETWORK)\n",
        "DATA = \"/content/drive/MyDrive/Outsmart/dataset\"\n",
        "# Snap: How often should the model generate samples and a .pkl file\n",
        "SNAP = 10\n",
        "# Mirrored: Should the images be mirrored left to right?\n",
        "MIRRORED = 1\n",
        "\n",
        "# Build the command and run it\n",
        "cmd = f\"/usr/bin/python3 /content/drive/MyDrive/Outsmart/stylegan2-ada-pytorch/train.py --cfg=stylegan2 --gpus=1 --gamma=8 --snap {SNAP} --resume {RESUME} --outdir {OUTPUT} --data {DATA} --mirror={MIRRORED} --aug=ada\"\n",
        "!{cmd}"
      ]
    },
    {
      "cell_type": "markdown",
      "metadata": {
        "id": "j6-C0KSpyDD8"
      },
      "source": [
        "## Generate images"
      ]
    },
    {
      "cell_type": "markdown",
      "metadata": {
        "id": "5KP0UWdqyD49"
      },
      "source": []
    },
    {
      "cell_type": "code",
      "execution_count": null,
      "metadata": {
        "colab": {
          "base_uri": "https://localhost:8080/"
        },
        "id": "rgZqHe1eyEWc",
        "outputId": "4e021e67-520e-47da-ef29-a7c2f8765463"
      },
      "outputs": [
        {
          "name": "stdout",
          "output_type": "stream",
          "text": [
            "Looking in indexes: https://pypi.org/simple, https://us-python.pkg.dev/colab-wheels/public/simple/\n",
            "Requirement already satisfied: ninja in /usr/local/lib/python3.7/dist-packages (1.10.2.3)\n",
            "Looking in indexes: https://pypi.org/simple, https://us-python.pkg.dev/colab-wheels/public/simple/\n",
            "Requirement already satisfied: torch==1.8.1 in /usr/local/lib/python3.7/dist-packages (1.8.1)\n",
            "Requirement already satisfied: torchvision==0.9.1 in /usr/local/lib/python3.7/dist-packages (0.9.1)\n",
            "Requirement already satisfied: torchaudio==0.8.1 in /usr/local/lib/python3.7/dist-packages (0.8.1)\n",
            "Requirement already satisfied: torchtext==0.9.1 in /usr/local/lib/python3.7/dist-packages (0.9.1)\n",
            "Requirement already satisfied: numpy in /usr/local/lib/python3.7/dist-packages (from torch==1.8.1) (1.21.6)\n",
            "Requirement already satisfied: typing-extensions in /usr/local/lib/python3.7/dist-packages (from torch==1.8.1) (4.1.1)\n",
            "Requirement already satisfied: pillow>=4.1.1 in /usr/local/lib/python3.7/dist-packages (from torchvision==0.9.1) (7.1.2)\n",
            "Requirement already satisfied: requests in /usr/local/lib/python3.7/dist-packages (from torchtext==0.9.1) (2.23.0)\n",
            "Requirement already satisfied: tqdm in /usr/local/lib/python3.7/dist-packages (from torchtext==0.9.1) (4.64.0)\n",
            "Requirement already satisfied: urllib3!=1.25.0,!=1.25.1,<1.26,>=1.21.1 in /usr/local/lib/python3.7/dist-packages (from requests->torchtext==0.9.1) (1.24.3)\n",
            "Requirement already satisfied: chardet<4,>=3.0.2 in /usr/local/lib/python3.7/dist-packages (from requests->torchtext==0.9.1) (3.0.4)\n",
            "Requirement already satisfied: certifi>=2017.4.17 in /usr/local/lib/python3.7/dist-packages (from requests->torchtext==0.9.1) (2022.6.15)\n",
            "Requirement already satisfied: idna<3,>=2.5 in /usr/local/lib/python3.7/dist-packages (from requests->torchtext==0.9.1) (2.10)\n",
            "Loading networks from \"/content/drive/MyDrive/Outsmart/output/00049-dataset-mirror-stylegan2-gamma8-ada-resumecustom/network-snapshot-000120.pkl\"...\n",
            "Generating image for seed 9391 (0/100) ...\n",
            "Setting up PyTorch plugin \"bias_act_plugin\"... Done.\n",
            "Setting up PyTorch plugin \"upfirdn2d_plugin\"... Done.\n",
            "Generating image for seed 978 (1/100) ...\n",
            "Generating image for seed 5059 (2/100) ...\n",
            "Generating image for seed 8054 (3/100) ...\n",
            "Generating image for seed 2919 (4/100) ...\n",
            "Generating image for seed 182 (5/100) ...\n",
            "Generating image for seed 6524 (6/100) ...\n",
            "Generating image for seed 142 (7/100) ...\n",
            "Generating image for seed 955 (8/100) ...\n",
            "Generating image for seed 5178 (9/100) ...\n",
            "Generating image for seed 7623 (10/100) ...\n",
            "Generating image for seed 4896 (11/100) ...\n",
            "Generating image for seed 182 (12/100) ...\n",
            "Generating image for seed 3183 (13/100) ...\n",
            "Generating image for seed 1525 (14/100) ...\n",
            "Generating image for seed 9845 (15/100) ...\n",
            "Generating image for seed 1635 (16/100) ...\n",
            "Generating image for seed 1308 (17/100) ...\n",
            "Generating image for seed 7765 (18/100) ...\n",
            "Generating image for seed 9178 (19/100) ...\n",
            "Generating image for seed 4652 (20/100) ...\n",
            "Generating image for seed 4634 (21/100) ...\n",
            "Generating image for seed 6116 (22/100) ...\n",
            "Generating image for seed 1789 (23/100) ...\n",
            "Generating image for seed 3645 (24/100) ...\n",
            "Generating image for seed 4985 (25/100) ...\n",
            "Generating image for seed 4594 (26/100) ...\n",
            "Generating image for seed 4589 (27/100) ...\n",
            "Generating image for seed 9078 (28/100) ...\n",
            "Generating image for seed 6804 (29/100) ...\n",
            "Generating image for seed 6110 (30/100) ...\n",
            "Generating image for seed 3899 (31/100) ...\n",
            "Generating image for seed 6386 (32/100) ...\n",
            "Generating image for seed 6206 (33/100) ...\n",
            "Generating image for seed 143 (34/100) ...\n",
            "Generating image for seed 7896 (35/100) ...\n",
            "Generating image for seed 5101 (36/100) ...\n",
            "Generating image for seed 9834 (37/100) ...\n",
            "Generating image for seed 1758 (38/100) ...\n",
            "Generating image for seed 1796 (39/100) ...\n",
            "Generating image for seed 8508 (40/100) ...\n",
            "Generating image for seed 8318 (41/100) ...\n",
            "Generating image for seed 3708 (42/100) ...\n",
            "Generating image for seed 5457 (43/100) ...\n",
            "Generating image for seed 1284 (44/100) ...\n",
            "Generating image for seed 8954 (45/100) ...\n",
            "Generating image for seed 7430 (46/100) ...\n",
            "Generating image for seed 4890 (47/100) ...\n",
            "Generating image for seed 3056 (48/100) ...\n",
            "Generating image for seed 2656 (49/100) ...\n",
            "Generating image for seed 7592 (50/100) ...\n",
            "Generating image for seed 9142 (51/100) ...\n",
            "Generating image for seed 3922 (52/100) ...\n",
            "Generating image for seed 6891 (53/100) ...\n",
            "Generating image for seed 7772 (54/100) ...\n",
            "Generating image for seed 8530 (55/100) ...\n",
            "Generating image for seed 5782 (56/100) ...\n",
            "Generating image for seed 5728 (57/100) ...\n",
            "Generating image for seed 5799 (58/100) ...\n",
            "Generating image for seed 693 (59/100) ...\n",
            "Generating image for seed 7578 (60/100) ...\n",
            "Generating image for seed 1567 (61/100) ...\n",
            "Generating image for seed 6523 (62/100) ...\n",
            "Generating image for seed 4507 (63/100) ...\n",
            "Generating image for seed 7411 (64/100) ...\n",
            "Generating image for seed 5983 (65/100) ...\n",
            "Generating image for seed 7452 (66/100) ...\n",
            "Generating image for seed 7580 (67/100) ...\n",
            "Generating image for seed 4602 (68/100) ...\n",
            "Generating image for seed 8759 (69/100) ...\n",
            "Generating image for seed 5197 (70/100) ...\n",
            "Generating image for seed 5599 (71/100) ...\n",
            "Generating image for seed 964 (72/100) ...\n",
            "Generating image for seed 2170 (73/100) ...\n",
            "Generating image for seed 4933 (74/100) ...\n",
            "Generating image for seed 1409 (75/100) ...\n",
            "Generating image for seed 2981 (76/100) ...\n",
            "Generating image for seed 437 (77/100) ...\n",
            "Generating image for seed 5160 (78/100) ...\n",
            "Generating image for seed 1031 (79/100) ...\n",
            "Generating image for seed 5713 (80/100) ...\n",
            "Generating image for seed 3242 (81/100) ...\n",
            "Generating image for seed 6706 (82/100) ...\n",
            "Generating image for seed 4205 (83/100) ...\n",
            "Generating image for seed 4828 (84/100) ...\n",
            "Generating image for seed 6365 (85/100) ...\n",
            "Generating image for seed 2498 (86/100) ...\n",
            "Generating image for seed 4565 (87/100) ...\n",
            "Generating image for seed 640 (88/100) ...\n",
            "Generating image for seed 7579 (89/100) ...\n",
            "Generating image for seed 2973 (90/100) ...\n",
            "Generating image for seed 8157 (91/100) ...\n",
            "Generating image for seed 4589 (92/100) ...\n",
            "Generating image for seed 9284 (93/100) ...\n",
            "Generating image for seed 1444 (94/100) ...\n",
            "Generating image for seed 2591 (95/100) ...\n",
            "Generating image for seed 8654 (96/100) ...\n",
            "Generating image for seed 3133 (97/100) ...\n",
            "Generating image for seed 7394 (98/100) ...\n",
            "Generating image for seed 4541 (99/100) ...\n"
          ]
        }
      ],
      "source": [
        "%tensorflow_version 1.x\n",
        "!pip install ninja\n",
        "!pip install torch==1.8.1 torchvision==0.9.1 torchaudio==0.8.1 torchtext==0.9.1\n",
        "\n",
        "import os\n",
        "import random\n",
        "\n",
        "\n",
        "# Modify these to suit your needs\n",
        "NUMBER_OF_IMAGES_TO_PRODUCE = 100\n",
        "RESULTS = \"/content/drive/MyDrive/Outsmart/results\"\n",
        "OUTPUT = \"/content/drive/MyDrive/Outsmart/output\"\n",
        "FOLDER = \"00049-dataset-mirror-stylegan2-gamma8-ada-resumecustom\"\n",
        "NETWORK = \"network-snapshot-000120.pkl\"\n",
        "MODEL = os.path.join(OUTPUT, FOLDER, NETWORK)\n",
        "\n",
        "randomlist = []\n",
        "for i in range(NUMBER_OF_IMAGES_TO_PRODUCE):\n",
        "  randomlist.append(random.randint(1,10000))\n",
        "\n",
        "random_numbers_string = \",\".join([str(i) for i in randomlist])\n",
        "\n",
        "cmd = f\"/usr/bin/python3 /content/drive/MyDrive/Outsmart/stylegan2-ada-pytorch/generate.py --outdir={RESULTS} --trunc=1 --seeds={random_numbers_string} --network={MODEL}\"\n",
        "!{cmd}\n",
        "\n",
        "print(\"All images are successfully generated!\")"
      ]
    }
  ],
  "metadata": {
    "accelerator": "GPU",
    "colab": {
      "collapsed_sections": [
        "FPXQ-z-SmXdE"
      ],
      "machine_shape": "hm",
      "provenance": [],
      "toc_visible": true,
      "include_colab_link": true
    },
    "kernelspec": {
      "display_name": "Python 3",
      "name": "python3"
    }
  },
  "nbformat": 4,
  "nbformat_minor": 0
}